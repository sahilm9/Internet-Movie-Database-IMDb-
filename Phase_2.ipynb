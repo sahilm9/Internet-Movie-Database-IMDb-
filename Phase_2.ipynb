{
 "cells": [
  {
   "cell_type": "markdown",
   "metadata": {},
   "source": [
    "# Internet Movie Database (IMDb)"
   ]
  },
  {
   "cell_type": "markdown",
   "metadata": {},
   "source": [
    "Project Description: Predicting the IMDb rating of a movie by building a regression model on IMDb dataset"
   ]
  },
  {
   "cell_type": "code",
   "execution_count": 67,
   "metadata": {
    "collapsed": true
   },
   "outputs": [],
   "source": [
    "import pandas as pd\n",
    "from pandas import *\n",
    "import numpy as np\n",
    "from sklearn import preprocessing"
   ]
  },
  {
   "cell_type": "markdown",
   "metadata": {},
   "source": [
    "Loading the pre-processed data set"
   ]
  },
  {
   "cell_type": "code",
   "execution_count": 68,
   "metadata": {
    "collapsed": false
   },
   "outputs": [
    {
     "data": {
      "text/html": [
       "<div>\n",
       "<table border=\"1\" class=\"dataframe\">\n",
       "  <thead>\n",
       "    <tr style=\"text-align: right;\">\n",
       "      <th></th>\n",
       "      <th>color</th>\n",
       "      <th>num_critic_for_reviews</th>\n",
       "      <th>duration</th>\n",
       "      <th>director_facebook_likes</th>\n",
       "      <th>actor_3_facebook_likes</th>\n",
       "      <th>actor_1_facebook_likes</th>\n",
       "      <th>num_voted_users</th>\n",
       "      <th>num_user_for_reviews</th>\n",
       "      <th>language</th>\n",
       "      <th>country</th>\n",
       "      <th>...</th>\n",
       "      <th>War</th>\n",
       "      <th>Documentary</th>\n",
       "      <th>Sport</th>\n",
       "      <th>Crime</th>\n",
       "      <th>Horror</th>\n",
       "      <th>Mystery</th>\n",
       "      <th>Sci_Fi</th>\n",
       "      <th>Thriller</th>\n",
       "      <th>Animation</th>\n",
       "      <th>Biography</th>\n",
       "    </tr>\n",
       "  </thead>\n",
       "  <tbody>\n",
       "    <tr>\n",
       "      <th>0</th>\n",
       "      <td>Color</td>\n",
       "      <td>723.0</td>\n",
       "      <td>178.0</td>\n",
       "      <td>0.0</td>\n",
       "      <td>855.0</td>\n",
       "      <td>1000.0</td>\n",
       "      <td>886204</td>\n",
       "      <td>3054.0</td>\n",
       "      <td>English</td>\n",
       "      <td>USA</td>\n",
       "      <td>...</td>\n",
       "      <td>0</td>\n",
       "      <td>0</td>\n",
       "      <td>0</td>\n",
       "      <td>0</td>\n",
       "      <td>0</td>\n",
       "      <td>0</td>\n",
       "      <td>1</td>\n",
       "      <td>0</td>\n",
       "      <td>0</td>\n",
       "      <td>0</td>\n",
       "    </tr>\n",
       "    <tr>\n",
       "      <th>1</th>\n",
       "      <td>Color</td>\n",
       "      <td>302.0</td>\n",
       "      <td>169.0</td>\n",
       "      <td>563.0</td>\n",
       "      <td>1000.0</td>\n",
       "      <td>40000.0</td>\n",
       "      <td>471220</td>\n",
       "      <td>1238.0</td>\n",
       "      <td>English</td>\n",
       "      <td>USA</td>\n",
       "      <td>...</td>\n",
       "      <td>0</td>\n",
       "      <td>0</td>\n",
       "      <td>0</td>\n",
       "      <td>0</td>\n",
       "      <td>0</td>\n",
       "      <td>0</td>\n",
       "      <td>0</td>\n",
       "      <td>0</td>\n",
       "      <td>0</td>\n",
       "      <td>0</td>\n",
       "    </tr>\n",
       "    <tr>\n",
       "      <th>2</th>\n",
       "      <td>Color</td>\n",
       "      <td>602.0</td>\n",
       "      <td>148.0</td>\n",
       "      <td>0.0</td>\n",
       "      <td>161.0</td>\n",
       "      <td>11000.0</td>\n",
       "      <td>275868</td>\n",
       "      <td>994.0</td>\n",
       "      <td>English</td>\n",
       "      <td>UK</td>\n",
       "      <td>...</td>\n",
       "      <td>0</td>\n",
       "      <td>0</td>\n",
       "      <td>0</td>\n",
       "      <td>0</td>\n",
       "      <td>0</td>\n",
       "      <td>0</td>\n",
       "      <td>0</td>\n",
       "      <td>1</td>\n",
       "      <td>0</td>\n",
       "      <td>0</td>\n",
       "    </tr>\n",
       "    <tr>\n",
       "      <th>3</th>\n",
       "      <td>Color</td>\n",
       "      <td>813.0</td>\n",
       "      <td>164.0</td>\n",
       "      <td>22000.0</td>\n",
       "      <td>23000.0</td>\n",
       "      <td>27000.0</td>\n",
       "      <td>1144337</td>\n",
       "      <td>2701.0</td>\n",
       "      <td>English</td>\n",
       "      <td>USA</td>\n",
       "      <td>...</td>\n",
       "      <td>0</td>\n",
       "      <td>0</td>\n",
       "      <td>0</td>\n",
       "      <td>0</td>\n",
       "      <td>0</td>\n",
       "      <td>0</td>\n",
       "      <td>0</td>\n",
       "      <td>1</td>\n",
       "      <td>0</td>\n",
       "      <td>0</td>\n",
       "    </tr>\n",
       "    <tr>\n",
       "      <th>4</th>\n",
       "      <td>Color</td>\n",
       "      <td>462.0</td>\n",
       "      <td>132.0</td>\n",
       "      <td>475.0</td>\n",
       "      <td>530.0</td>\n",
       "      <td>640.0</td>\n",
       "      <td>212204</td>\n",
       "      <td>738.0</td>\n",
       "      <td>English</td>\n",
       "      <td>USA</td>\n",
       "      <td>...</td>\n",
       "      <td>0</td>\n",
       "      <td>0</td>\n",
       "      <td>0</td>\n",
       "      <td>0</td>\n",
       "      <td>0</td>\n",
       "      <td>0</td>\n",
       "      <td>1</td>\n",
       "      <td>0</td>\n",
       "      <td>0</td>\n",
       "      <td>0</td>\n",
       "    </tr>\n",
       "  </tbody>\n",
       "</table>\n",
       "<p>5 rows × 33 columns</p>\n",
       "</div>"
      ],
      "text/plain": [
       "   color  num_critic_for_reviews  duration  director_facebook_likes  \\\n",
       "0  Color                   723.0     178.0                      0.0   \n",
       "1  Color                   302.0     169.0                    563.0   \n",
       "2  Color                   602.0     148.0                      0.0   \n",
       "3  Color                   813.0     164.0                  22000.0   \n",
       "4  Color                   462.0     132.0                    475.0   \n",
       "\n",
       "   actor_3_facebook_likes  actor_1_facebook_likes  num_voted_users  \\\n",
       "0                   855.0                  1000.0           886204   \n",
       "1                  1000.0                 40000.0           471220   \n",
       "2                   161.0                 11000.0           275868   \n",
       "3                 23000.0                 27000.0          1144337   \n",
       "4                   530.0                   640.0           212204   \n",
       "\n",
       "   num_user_for_reviews language country    ...     War  Documentary  Sport  \\\n",
       "0                3054.0  English     USA    ...       0            0      0   \n",
       "1                1238.0  English     USA    ...       0            0      0   \n",
       "2                 994.0  English      UK    ...       0            0      0   \n",
       "3                2701.0  English     USA    ...       0            0      0   \n",
       "4                 738.0  English     USA    ...       0            0      0   \n",
       "\n",
       "   Crime  Horror  Mystery  Sci_Fi  Thriller  Animation  Biography  \n",
       "0      0       0        0       1         0          0          0  \n",
       "1      0       0        0       0         0          0          0  \n",
       "2      0       0        0       0         1          0          0  \n",
       "3      0       0        0       0         1          0          0  \n",
       "4      0       0        0       1         0          0          0  \n",
       "\n",
       "[5 rows x 33 columns]"
      ]
     },
     "execution_count": 68,
     "metadata": {},
     "output_type": "execute_result"
    }
   ],
   "source": [
    "imdb = pd.read_csv(\"/Users/Sahil/Documents/masters/ml_project/IMDb_dataset1.csv\")\n",
    "imdb.shape\n",
    "imdb.head()"
   ]
  },
  {
   "cell_type": "code",
   "execution_count": 69,
   "metadata": {
    "collapsed": true
   },
   "outputs": [],
   "source": [
    "y = imdb['imdb_score']\n",
    "del imdb['imdb_score']"
   ]
  },
  {
   "cell_type": "markdown",
   "metadata": {},
   "source": [
    "Binarizing/Vectorizing the columns with text data"
   ]
  },
  {
   "cell_type": "code",
   "execution_count": 70,
   "metadata": {
    "collapsed": false
   },
   "outputs": [
    {
     "data": {
      "text/html": [
       "<div>\n",
       "<table border=\"1\" class=\"dataframe\">\n",
       "  <thead>\n",
       "    <tr style=\"text-align: right;\">\n",
       "      <th></th>\n",
       "      <th>num_critic_for_reviews</th>\n",
       "      <th>duration</th>\n",
       "      <th>director_facebook_likes</th>\n",
       "      <th>actor_3_facebook_likes</th>\n",
       "      <th>actor_1_facebook_likes</th>\n",
       "      <th>num_voted_users</th>\n",
       "      <th>num_user_for_reviews</th>\n",
       "      <th>actor_2_facebook_likes</th>\n",
       "      <th>movie_facebook_likes</th>\n",
       "      <th>Adventure</th>\n",
       "      <th>...</th>\n",
       "      <th>content_rating_Passed</th>\n",
       "      <th>content_rating_R</th>\n",
       "      <th>content_rating_TV-14</th>\n",
       "      <th>content_rating_TV-G</th>\n",
       "      <th>content_rating_TV-MA</th>\n",
       "      <th>content_rating_TV-PG</th>\n",
       "      <th>content_rating_TV-Y</th>\n",
       "      <th>content_rating_TV-Y7</th>\n",
       "      <th>content_rating_Unrated</th>\n",
       "      <th>content_rating_X</th>\n",
       "    </tr>\n",
       "  </thead>\n",
       "  <tbody>\n",
       "    <tr>\n",
       "      <th>0</th>\n",
       "      <td>723.0</td>\n",
       "      <td>178.0</td>\n",
       "      <td>0.0</td>\n",
       "      <td>855.0</td>\n",
       "      <td>1000.0</td>\n",
       "      <td>886204</td>\n",
       "      <td>3054.0</td>\n",
       "      <td>936.0</td>\n",
       "      <td>33000</td>\n",
       "      <td>1</td>\n",
       "      <td>...</td>\n",
       "      <td>0.0</td>\n",
       "      <td>0.0</td>\n",
       "      <td>0.0</td>\n",
       "      <td>0.0</td>\n",
       "      <td>0.0</td>\n",
       "      <td>0.0</td>\n",
       "      <td>0.0</td>\n",
       "      <td>0.0</td>\n",
       "      <td>0.0</td>\n",
       "      <td>0.0</td>\n",
       "    </tr>\n",
       "    <tr>\n",
       "      <th>1</th>\n",
       "      <td>302.0</td>\n",
       "      <td>169.0</td>\n",
       "      <td>563.0</td>\n",
       "      <td>1000.0</td>\n",
       "      <td>40000.0</td>\n",
       "      <td>471220</td>\n",
       "      <td>1238.0</td>\n",
       "      <td>5000.0</td>\n",
       "      <td>0</td>\n",
       "      <td>1</td>\n",
       "      <td>...</td>\n",
       "      <td>0.0</td>\n",
       "      <td>0.0</td>\n",
       "      <td>0.0</td>\n",
       "      <td>0.0</td>\n",
       "      <td>0.0</td>\n",
       "      <td>0.0</td>\n",
       "      <td>0.0</td>\n",
       "      <td>0.0</td>\n",
       "      <td>0.0</td>\n",
       "      <td>0.0</td>\n",
       "    </tr>\n",
       "    <tr>\n",
       "      <th>2</th>\n",
       "      <td>602.0</td>\n",
       "      <td>148.0</td>\n",
       "      <td>0.0</td>\n",
       "      <td>161.0</td>\n",
       "      <td>11000.0</td>\n",
       "      <td>275868</td>\n",
       "      <td>994.0</td>\n",
       "      <td>393.0</td>\n",
       "      <td>85000</td>\n",
       "      <td>1</td>\n",
       "      <td>...</td>\n",
       "      <td>0.0</td>\n",
       "      <td>0.0</td>\n",
       "      <td>0.0</td>\n",
       "      <td>0.0</td>\n",
       "      <td>0.0</td>\n",
       "      <td>0.0</td>\n",
       "      <td>0.0</td>\n",
       "      <td>0.0</td>\n",
       "      <td>0.0</td>\n",
       "      <td>0.0</td>\n",
       "    </tr>\n",
       "    <tr>\n",
       "      <th>3</th>\n",
       "      <td>813.0</td>\n",
       "      <td>164.0</td>\n",
       "      <td>22000.0</td>\n",
       "      <td>23000.0</td>\n",
       "      <td>27000.0</td>\n",
       "      <td>1144337</td>\n",
       "      <td>2701.0</td>\n",
       "      <td>23000.0</td>\n",
       "      <td>164000</td>\n",
       "      <td>0</td>\n",
       "      <td>...</td>\n",
       "      <td>0.0</td>\n",
       "      <td>0.0</td>\n",
       "      <td>0.0</td>\n",
       "      <td>0.0</td>\n",
       "      <td>0.0</td>\n",
       "      <td>0.0</td>\n",
       "      <td>0.0</td>\n",
       "      <td>0.0</td>\n",
       "      <td>0.0</td>\n",
       "      <td>0.0</td>\n",
       "    </tr>\n",
       "    <tr>\n",
       "      <th>4</th>\n",
       "      <td>462.0</td>\n",
       "      <td>132.0</td>\n",
       "      <td>475.0</td>\n",
       "      <td>530.0</td>\n",
       "      <td>640.0</td>\n",
       "      <td>212204</td>\n",
       "      <td>738.0</td>\n",
       "      <td>632.0</td>\n",
       "      <td>24000</td>\n",
       "      <td>1</td>\n",
       "      <td>...</td>\n",
       "      <td>0.0</td>\n",
       "      <td>0.0</td>\n",
       "      <td>0.0</td>\n",
       "      <td>0.0</td>\n",
       "      <td>0.0</td>\n",
       "      <td>0.0</td>\n",
       "      <td>0.0</td>\n",
       "      <td>0.0</td>\n",
       "      <td>0.0</td>\n",
       "      <td>0.0</td>\n",
       "    </tr>\n",
       "  </tbody>\n",
       "</table>\n",
       "<p>5 rows × 160 columns</p>\n",
       "</div>"
      ],
      "text/plain": [
       "   num_critic_for_reviews  duration  director_facebook_likes  \\\n",
       "0                   723.0     178.0                      0.0   \n",
       "1                   302.0     169.0                    563.0   \n",
       "2                   602.0     148.0                      0.0   \n",
       "3                   813.0     164.0                  22000.0   \n",
       "4                   462.0     132.0                    475.0   \n",
       "\n",
       "   actor_3_facebook_likes  actor_1_facebook_likes  num_voted_users  \\\n",
       "0                   855.0                  1000.0           886204   \n",
       "1                  1000.0                 40000.0           471220   \n",
       "2                   161.0                 11000.0           275868   \n",
       "3                 23000.0                 27000.0          1144337   \n",
       "4                   530.0                   640.0           212204   \n",
       "\n",
       "   num_user_for_reviews  actor_2_facebook_likes  movie_facebook_likes  \\\n",
       "0                3054.0                   936.0                 33000   \n",
       "1                1238.0                  5000.0                     0   \n",
       "2                 994.0                   393.0                 85000   \n",
       "3                2701.0                 23000.0                164000   \n",
       "4                 738.0                   632.0                 24000   \n",
       "\n",
       "   Adventure        ...         content_rating_Passed  content_rating_R  \\\n",
       "0          1        ...                           0.0               0.0   \n",
       "1          1        ...                           0.0               0.0   \n",
       "2          1        ...                           0.0               0.0   \n",
       "3          0        ...                           0.0               0.0   \n",
       "4          1        ...                           0.0               0.0   \n",
       "\n",
       "   content_rating_TV-14  content_rating_TV-G  content_rating_TV-MA  \\\n",
       "0                   0.0                  0.0                   0.0   \n",
       "1                   0.0                  0.0                   0.0   \n",
       "2                   0.0                  0.0                   0.0   \n",
       "3                   0.0                  0.0                   0.0   \n",
       "4                   0.0                  0.0                   0.0   \n",
       "\n",
       "   content_rating_TV-PG  content_rating_TV-Y  content_rating_TV-Y7  \\\n",
       "0                   0.0                  0.0                   0.0   \n",
       "1                   0.0                  0.0                   0.0   \n",
       "2                   0.0                  0.0                   0.0   \n",
       "3                   0.0                  0.0                   0.0   \n",
       "4                   0.0                  0.0                   0.0   \n",
       "\n",
       "   content_rating_Unrated  content_rating_X  \n",
       "0                     0.0               0.0  \n",
       "1                     0.0               0.0  \n",
       "2                     0.0               0.0  \n",
       "3                     0.0               0.0  \n",
       "4                     0.0               0.0  \n",
       "\n",
       "[5 rows x 160 columns]"
      ]
     },
     "execution_count": 70,
     "metadata": {},
     "output_type": "execute_result"
    }
   ],
   "source": [
    "imdb = pd.get_dummies(imdb)\n",
    "imdb.shape\n",
    "imdb.head()"
   ]
  },
  {
   "cell_type": "markdown",
   "metadata": {},
   "source": [
    "Feature scaling"
   ]
  },
  {
   "cell_type": "code",
   "execution_count": 71,
   "metadata": {
    "collapsed": false
   },
   "outputs": [
    {
     "name": "stderr",
     "output_type": "stream",
     "text": [
      "/Users/Sahil/anaconda/lib/python3.5/site-packages/sklearn/utils/validation.py:429: DataConversionWarning: Data with input dtype int64 was converted to float64 by the scale function.\n",
      "  warnings.warn(msg, _DataConversionWarning)\n"
     ]
    }
   ],
   "source": [
    "imdb['num_critic_for_reviews'] = preprocessing.scale(imdb['num_critic_for_reviews'])\n",
    "imdb['duration'] = preprocessing.scale(imdb['duration'])\n",
    "imdb['director_facebook_likes'] = preprocessing.scale(imdb['director_facebook_likes'])\n",
    "imdb['actor_1_facebook_likes'] = preprocessing.scale(imdb['actor_1_facebook_likes'])\n",
    "imdb['actor_2_facebook_likes'] = preprocessing.scale(imdb['actor_2_facebook_likes'])\n",
    "imdb['actor_3_facebook_likes'] = preprocessing.scale(imdb['actor_3_facebook_likes'])\n",
    "imdb['movie_facebook_likes'] = preprocessing.scale(imdb['movie_facebook_likes'])\n",
    "imdb['num_user_for_reviews'] = preprocessing.scale(imdb['num_user_for_reviews'])\n",
    "imdb['num_voted_users'] = preprocessing.scale(imdb['num_voted_users'])"
   ]
  },
  {
   "cell_type": "markdown",
   "metadata": {},
   "source": [
    "Displaying the number of instances and features of the dataset i.e. shape"
   ]
  },
  {
   "cell_type": "code",
   "execution_count": 72,
   "metadata": {
    "collapsed": false
   },
   "outputs": [
    {
     "data": {
      "text/plain": [
       "(5015, 160)"
      ]
     },
     "execution_count": 72,
     "metadata": {},
     "output_type": "execute_result"
    }
   ],
   "source": [
    "imdb.shape"
   ]
  },
  {
   "cell_type": "markdown",
   "metadata": {},
   "source": [
    "### Performance of a Baseline Model i.e. performance of predicting the mean of the target"
   ]
  },
  {
   "cell_type": "code",
   "execution_count": 73,
   "metadata": {
    "collapsed": true
   },
   "outputs": [],
   "source": [
    "from sklearn.dummy import DummyRegressor\n",
    "from sklearn.model_selection import train_test_split\n",
    "from sklearn.metrics import mean_squared_error\n",
    "from sklearn.metrics import r2_score\n",
    "X_train,X_test,Y_train,Y_test = train_test_split(imdb,y,train_size=0.67,random_state=2)"
   ]
  },
  {
   "cell_type": "code",
   "execution_count": 74,
   "metadata": {
    "collapsed": false
   },
   "outputs": [
    {
     "name": "stdout",
     "output_type": "stream",
     "text": [
      "Mean squared error: 1.2317\n",
      "R2 score: -0.0012\n"
     ]
    }
   ],
   "source": [
    "dummy = DummyRegressor()\n",
    "dummy.fit(X_train,Y_train)\n",
    "pred = dummy.predict(X_test)\n",
    "print(\"Mean squared error: %0.4f\"%mean_squared_error(Y_test,pred))\n",
    "print(\"R2 score: %0.4f\"%r2_score(Y_test,pred))"
   ]
  },
  {
   "cell_type": "markdown",
   "metadata": {},
   "source": [
    "### Models performance evaluation based on train-test split & cross-validation\n",
    "### Performance Metrics: 1) Mean Squared Error 2) Root Mean Squared Error 3) R2 Score"
   ]
  },
  {
   "cell_type": "code",
   "execution_count": 75,
   "metadata": {
    "collapsed": true
   },
   "outputs": [],
   "source": [
    "from sklearn.model_selection import cross_val_score\n",
    "from sklearn.linear_model import LinearRegression\n",
    "from sklearn.linear_model import Lasso\n",
    "from sklearn.linear_model import Ridge\n",
    "from sklearn.tree import DecisionTreeRegressor"
   ]
  },
  {
   "cell_type": "markdown",
   "metadata": {},
   "source": [
    "Regression models with default parameter settings"
   ]
  },
  {
   "cell_type": "code",
   "execution_count": 76,
   "metadata": {
    "collapsed": false
   },
   "outputs": [],
   "source": [
    "DR = DecisionTreeRegressor()\n",
    "LA_R = Lasso()\n",
    "R_R = Ridge()"
   ]
  },
  {
   "cell_type": "code",
   "execution_count": 77,
   "metadata": {
    "collapsed": false
   },
   "outputs": [
    {
     "name": "stdout",
     "output_type": "stream",
     "text": [
      "Mean squared error: 1.2384\n",
      "Root Mean Squared Error: 1.1128\n",
      "R2 score: 0.1411\n"
     ]
    }
   ],
   "source": [
    "score1 = cross_val_score(DR,X_train,Y_train,cv=10,scoring=\"neg_mean_squared_error\")\n",
    "sc = cross_val_score(DR,X_train,Y_train,cv=10,scoring=\"r2\")\n",
    "print(\"Mean squared error: %0.4f\"%np.mean(np.abs(score1)))\n",
    "print(\"Root Mean Squared Error: %0.4f\"%np.sqrt(np.mean(np.abs(score1))))\n",
    "print(\"R2 score: %0.4f\"%np.mean(np.abs(sc)))"
   ]
  },
  {
   "cell_type": "code",
   "execution_count": 78,
   "metadata": {
    "collapsed": false
   },
   "outputs": [
    {
     "name": "stdout",
     "output_type": "stream",
     "text": [
      "Mean squared error: 1.2765\n",
      "Root Mean Squared Error: 1.1298\n",
      "R2 score: 0.0038\n"
     ]
    }
   ],
   "source": [
    "score = cross_val_score(LA_R,X_train,Y_train,cv=10,scoring=\"neg_mean_squared_error\")\n",
    "score1 = cross_val_score(LA_R,X_train,Y_train,cv=10,scoring=\"r2\")\n",
    "print(\"Mean squared error: %0.4f\"%np.mean(np.abs(score)))\n",
    "print(\"Root Mean Squared Error: %0.4f\"%np.sqrt(np.mean(np.abs(score))))\n",
    "print(\"R2 score: %0.4f\"%np.mean(np.abs(score1)))"
   ]
  },
  {
   "cell_type": "code",
   "execution_count": 79,
   "metadata": {
    "collapsed": false
   },
   "outputs": [
    {
     "name": "stdout",
     "output_type": "stream",
     "text": [
      "Mean squared error: 0.7364\n",
      "Root Mean Squared Error: 0.8582\n",
      "R2 score: 0.4230\n"
     ]
    }
   ],
   "source": [
    "score = cross_val_score(R_R,X_train,Y_train,cv=10,scoring=\"neg_mean_squared_error\")\n",
    "score1 = cross_val_score(R_R,X_train,Y_train,cv=10,scoring=\"r2\")\n",
    "print(\"Mean squared error: %0.4f\"%np.mean(np.abs(score)))\n",
    "print(\"Root Mean Squared Error: %0.4f\"%np.sqrt(np.mean(np.abs(score))))\n",
    "print(\"R2 score: %0.4f\"%np.mean(np.abs(score1)))"
   ]
  },
  {
   "cell_type": "markdown",
   "metadata": {},
   "source": [
    " Lasso & Ridge Regression with 'alpha=25'"
   ]
  },
  {
   "cell_type": "markdown",
   "metadata": {},
   "source": [
    "Decision Tree Regressor with different maximum depth values"
   ]
  },
  {
   "cell_type": "code",
   "execution_count": 80,
   "metadata": {
    "collapsed": true
   },
   "outputs": [],
   "source": [
    "LA_R = Lasso(alpha=25)\n",
    "R_R = Ridge(alpha=25)"
   ]
  },
  {
   "cell_type": "code",
   "execution_count": 81,
   "metadata": {
    "collapsed": false
   },
   "outputs": [
    {
     "name": "stdout",
     "output_type": "stream",
     "text": [
      "Mean squared error: 0.9514\n",
      "Root Mean Squared Error: 0.9754\n",
      "R2 score: 0.2496\n",
      "\n",
      "\n",
      "Mean squared error: 0.8922\n",
      "Root Mean Squared Error: 0.9446\n",
      "R2 score: 0.2980\n",
      "\n",
      "\n",
      "Mean squared error: 0.8719\n",
      "Root Mean Squared Error: 0.9337\n",
      "R2 score: 0.3140\n",
      "\n",
      "\n",
      "Mean squared error: 0.8377\n",
      "Root Mean Squared Error: 0.9153\n",
      "R2 score: 0.3422\n",
      "\n",
      "\n",
      "Mean squared error: 0.8502\n",
      "Root Mean Squared Error: 0.9221\n",
      "R2 score: 0.3331\n",
      "\n",
      "\n",
      "Mean squared error: 0.8860\n",
      "Root Mean Squared Error: 0.9413\n",
      "R2 score: 0.2981\n",
      "\n",
      "\n",
      "Mean squared error: 0.9095\n",
      "Root Mean Squared Error: 0.9537\n",
      "R2 score: 0.2803\n",
      "\n",
      "\n",
      "Mean squared error: 0.9380\n",
      "Root Mean Squared Error: 0.9685\n",
      "R2 score: 0.2649\n",
      "\n",
      "\n"
     ]
    }
   ],
   "source": [
    "for i in range(2,10):\n",
    "    DR = DecisionTreeRegressor(max_depth=i)\n",
    "    score1 = cross_val_score(DR,X_train,Y_train,cv=10,scoring=\"neg_mean_squared_error\")\n",
    "    sc = cross_val_score(DR,X_train,Y_train,cv=10,scoring=\"r2\")\n",
    "    print(\"Mean squared error: %0.4f\"%np.mean(np.abs(score1)))\n",
    "    print(\"Root Mean Squared Error: %0.4f\"%np.sqrt(np.mean(np.abs(score1))))\n",
    "    print(\"R2 score: %0.4f\"%np.mean(np.abs(sc)))\n",
    "    print(\"\\n\")"
   ]
  },
  {
   "cell_type": "code",
   "execution_count": 82,
   "metadata": {
    "collapsed": false
   },
   "outputs": [
    {
     "name": "stdout",
     "output_type": "stream",
     "text": [
      "Mean squared error: 1.2765\n",
      "Root Mean Squared Error: 1.1298\n",
      "R2 score: 0.0038\n"
     ]
    }
   ],
   "source": [
    "score = cross_val_score(LA_R,X_train,Y_train,cv=10,scoring=\"neg_mean_squared_error\")\n",
    "score1 = cross_val_score(LA_R,X_train,Y_train,cv=10,scoring=\"r2\")\n",
    "print(\"Mean squared error: %0.4f\"%np.mean(np.abs(score)))\n",
    "print(\"Root Mean Squared Error: %0.4f\"%np.sqrt(np.mean(np.abs(score))))\n",
    "print(\"R2 score: %0.4f\"%np.mean(np.abs(score1)))"
   ]
  },
  {
   "cell_type": "code",
   "execution_count": 83,
   "metadata": {
    "collapsed": false
   },
   "outputs": [
    {
     "name": "stdout",
     "output_type": "stream",
     "text": [
      "Mean squared error: 0.7409\n",
      "Root Mean Squared Error: 0.8608\n",
      "R2 score: 0.4195\n"
     ]
    }
   ],
   "source": [
    "score = cross_val_score(R_R,X_train,Y_train,cv=10,scoring=\"neg_mean_squared_error\")\n",
    "score1 = cross_val_score(R_R,X_train,Y_train,cv=10,scoring=\"r2\")\n",
    "print(\"Mean squared error: %0.4f\"%np.mean(np.abs(score)))\n",
    "print(\"Root Mean Squared Error: %0.4f\"%np.sqrt(np.mean(np.abs(score))))\n",
    "print(\"R2 score: %0.4f\"%np.mean(np.abs(score1)))"
   ]
  },
  {
   "cell_type": "markdown",
   "metadata": {},
   "source": [
    "Lasso & Ridge Regression with 'alpha=50'"
   ]
  },
  {
   "cell_type": "code",
   "execution_count": 84,
   "metadata": {
    "collapsed": true
   },
   "outputs": [],
   "source": [
    "LA_R = Lasso(alpha=50)\n",
    "R_R = Ridge(alpha=50)"
   ]
  },
  {
   "cell_type": "code",
   "execution_count": 85,
   "metadata": {
    "collapsed": false
   },
   "outputs": [
    {
     "name": "stdout",
     "output_type": "stream",
     "text": [
      "Mean squared error: 1.2765\n",
      "Root Mean Squared Error: 1.1298\n",
      "R2 score: 0.0038\n"
     ]
    }
   ],
   "source": [
    "score = cross_val_score(LA_R,X_train,Y_train,cv=10,scoring=\"neg_mean_squared_error\")\n",
    "score1 = cross_val_score(LA_R,X_train,Y_train,cv=10,scoring=\"r2\")\n",
    "print(\"Mean squared error: %0.4f\"%np.mean(np.abs(score)))\n",
    "print(\"Root Mean Squared Error: %0.4f\"%np.sqrt(np.mean(np.abs(score))))\n",
    "print(\"R2 score: %0.4f\"%np.mean(np.abs(score1)))"
   ]
  },
  {
   "cell_type": "code",
   "execution_count": 86,
   "metadata": {
    "collapsed": false
   },
   "outputs": [
    {
     "name": "stdout",
     "output_type": "stream",
     "text": [
      "Mean squared error: 0.7493\n",
      "Root Mean Squared Error: 0.8656\n",
      "R2 score: 0.4128\n"
     ]
    }
   ],
   "source": [
    "score = cross_val_score(R_R,X_train,Y_train,cv=10,scoring=\"neg_mean_squared_error\")\n",
    "score1 = cross_val_score(R_R,X_train,Y_train,cv=10,scoring=\"r2\")\n",
    "print(\"Mean squared error: %0.4f\"%np.mean(np.abs(score)))\n",
    "print(\"Root Mean Squared Error: %0.4f\"%np.sqrt(np.mean(np.abs(score))))\n",
    "print(\"R2 score: %0.4f\"%np.mean(np.abs(score1)))"
   ]
  },
  {
   "cell_type": "markdown",
   "metadata": {},
   "source": [
    "Lasso & Ridge Regression with 'alpha=100'"
   ]
  },
  {
   "cell_type": "code",
   "execution_count": 87,
   "metadata": {
    "collapsed": true
   },
   "outputs": [],
   "source": [
    "LA_R = Lasso(alpha=100)\n",
    "R_R = Ridge(alpha=100)"
   ]
  },
  {
   "cell_type": "code",
   "execution_count": 88,
   "metadata": {
    "collapsed": false
   },
   "outputs": [
    {
     "name": "stdout",
     "output_type": "stream",
     "text": [
      "Mean squared error: 1.2765\n",
      "Root Mean Squared Error: 1.1298\n",
      "R2 score: 0.0038\n"
     ]
    }
   ],
   "source": [
    "score = cross_val_score(LA_R,X_train,Y_train,cv=10,scoring=\"neg_mean_squared_error\")\n",
    "score1 = cross_val_score(LA_R,X_train,Y_train,cv=10,scoring=\"r2\")\n",
    "print(\"Mean squared error: %0.4f\"%np.mean(np.abs(score)))\n",
    "print(\"Root Mean Squared Error: %0.4f\"%np.sqrt(np.mean(np.abs(score))))\n",
    "print(\"R2 score: %0.4f\"%np.mean(np.abs(score1)))"
   ]
  },
  {
   "cell_type": "code",
   "execution_count": 89,
   "metadata": {
    "collapsed": false
   },
   "outputs": [
    {
     "name": "stdout",
     "output_type": "stream",
     "text": [
      "Mean squared error: 0.7623\n",
      "Root Mean Squared Error: 0.8731\n",
      "R2 score: 0.4024\n"
     ]
    }
   ],
   "source": [
    "score = cross_val_score(R_R,X_train,Y_train,cv=10,scoring=\"neg_mean_squared_error\")\n",
    "score1 = cross_val_score(R_R,X_train,Y_train,cv=10,scoring=\"r2\")\n",
    "print(\"Mean squared error: %0.4f\"%np.mean(np.abs(score)))\n",
    "print(\"Root Mean Squared Error: %0.4f\"%np.sqrt(np.mean(np.abs(score))))\n",
    "print(\"R2 score: %0.4f\"%np.mean(np.abs(score1)))"
   ]
  },
  {
   "cell_type": "markdown",
   "metadata": {},
   "source": [
    "Chosen model's performance when it is trained on the full training data and tested on the test data i.e. using Ridge Regression with default parameter settings"
   ]
  },
  {
   "cell_type": "code",
   "execution_count": 90,
   "metadata": {
    "collapsed": false
   },
   "outputs": [
    {
     "name": "stdout",
     "output_type": "stream",
     "text": [
      "Mean Squared Error: 0.7143\n",
      "Root Mean Squared Error: 0.8452\n",
      "R2 Score: 0.4194\n"
     ]
    }
   ],
   "source": [
    "R_R = Ridge()\n",
    "R_reg = R_R.fit(X_train,Y_train)\n",
    "pred = R_reg.predict(X_test)\n",
    "print (\"Mean Squared Error: %0.4f\"%mean_squared_error(Y_test,pred))\n",
    "print (\"Root Mean Squared Error: %0.4f\"%np.sqrt(mean_squared_error(Y_test,pred)))\n",
    "print (\"R2 Score: %0.4f\"%r2_score(Y_test,pred))"
   ]
  },
  {
   "cell_type": "markdown",
   "metadata": {},
   "source": [
    "## Models performance evaluation based on cross-validation"
   ]
  },
  {
   "cell_type": "markdown",
   "metadata": {},
   "source": [
    "Regression models with default parameter settings"
   ]
  },
  {
   "cell_type": "code",
   "execution_count": 91,
   "metadata": {
    "collapsed": true
   },
   "outputs": [],
   "source": [
    "DR = DecisionTreeRegressor()\n",
    "LR = Lasso()\n",
    "RR = Ridge()"
   ]
  },
  {
   "cell_type": "code",
   "execution_count": 92,
   "metadata": {
    "collapsed": false
   },
   "outputs": [
    {
     "name": "stdout",
     "output_type": "stream",
     "text": [
      "Mean Squared Error: 1.2546\n",
      "Root Mean Squared Error: 1.1201\n",
      "R2 Score: 0.0102\n"
     ]
    }
   ],
   "source": [
    "score = cross_val_score(DR,imdb,y,cv=10,scoring=\"neg_mean_squared_error\")\n",
    "score1 = cross_val_score(DR,imdb,y,cv=10,scoring=\"r2\")\n",
    "print (\"Mean Squared Error: %0.4f\"%np.mean(np.abs(score)))\n",
    "print (\"Root Mean Squared Error: %0.4f\"%np.sqrt(np.mean(np.abs(score))))\n",
    "print (\"R2 Score: %0.4f\"%np.mean(score1))"
   ]
  },
  {
   "cell_type": "code",
   "execution_count": 93,
   "metadata": {
    "collapsed": false
   },
   "outputs": [
    {
     "name": "stdout",
     "output_type": "stream",
     "text": [
      "Mean Squared Error: 1.2628\n",
      "Root Mean Squared Error: 1.1237\n",
      "R2 Score: 0.0080\n"
     ]
    }
   ],
   "source": [
    "score = cross_val_score(LR,imdb,y,cv=10,scoring=\"neg_mean_squared_error\")\n",
    "score1 = cross_val_score(LR,imdb,y,cv=10,scoring=\"r2\")\n",
    "print (\"Mean Squared Error: %0.4f\"%np.mean(np.abs(score)))\n",
    "print (\"Root Mean Squared Error: %0.4f\"%np.sqrt(np.mean(np.abs(score))))\n",
    "print (\"R2 Score: %0.4f\"%np.mean(np.abs(score1)))"
   ]
  },
  {
   "cell_type": "code",
   "execution_count": 94,
   "metadata": {
    "collapsed": false,
    "scrolled": true
   },
   "outputs": [
    {
     "name": "stdout",
     "output_type": "stream",
     "text": [
      "Mean Squared Error: 0.7423\n",
      "Root Mean Squared Error: 0.8616\n",
      "R2 Score: 0.4143\n"
     ]
    }
   ],
   "source": [
    "score = cross_val_score(RR,imdb,y,cv=10,scoring=\"neg_mean_squared_error\")\n",
    "score1 = cross_val_score(RR,imdb,y,cv=10,scoring=\"r2\")\n",
    "print (\"Mean Squared Error: %0.4f\"%np.mean(np.abs(score)))\n",
    "print (\"Root Mean Squared Error: %0.4f\"%np.sqrt(np.mean(np.abs(score))))\n",
    "print (\"R2 Score: %0.4f\"%np.mean(score1))"
   ]
  },
  {
   "cell_type": "markdown",
   "metadata": {},
   "source": [
    " Lasso & Ridge Regression with 'alpha=25'"
   ]
  },
  {
   "cell_type": "markdown",
   "metadata": {},
   "source": [
    "Decision Tree Regressor with different maximum depth values"
   ]
  },
  {
   "cell_type": "code",
   "execution_count": 95,
   "metadata": {
    "collapsed": true
   },
   "outputs": [],
   "source": [
    "LR = Lasso(alpha=25)\n",
    "RR = Ridge(alpha=25)"
   ]
  },
  {
   "cell_type": "code",
   "execution_count": 96,
   "metadata": {
    "collapsed": false
   },
   "outputs": [
    {
     "name": "stdout",
     "output_type": "stream",
     "text": [
      "Mean squared error: 0.9785\n",
      "Root Mean Squared Error: 0.9892\n",
      "R2 score: 0.2336\n",
      "\n",
      "\n",
      "Mean squared error: 0.9398\n",
      "Root Mean Squared Error: 0.9694\n",
      "R2 score: 0.2749\n",
      "\n",
      "\n",
      "Mean squared error: 0.9018\n",
      "Root Mean Squared Error: 0.9496\n",
      "R2 score: 0.2952\n",
      "\n",
      "\n",
      "Mean squared error: 0.8874\n",
      "Root Mean Squared Error: 0.9420\n",
      "R2 score: 0.3259\n",
      "\n",
      "\n",
      "Mean squared error: 0.8705\n",
      "Root Mean Squared Error: 0.9330\n",
      "R2 score: 0.3316\n",
      "\n",
      "\n",
      "Mean squared error: 0.8543\n",
      "Root Mean Squared Error: 0.9243\n",
      "R2 score: 0.3370\n",
      "\n",
      "\n",
      "Mean squared error: 0.8783\n",
      "Root Mean Squared Error: 0.9372\n",
      "R2 score: 0.3078\n",
      "\n",
      "\n",
      "Mean squared error: 0.9033\n",
      "Root Mean Squared Error: 0.9504\n",
      "R2 score: 0.3109\n",
      "\n",
      "\n"
     ]
    }
   ],
   "source": [
    "for i in range(2,10):\n",
    "    DR = DecisionTreeRegressor(max_depth=i)\n",
    "    score1 = cross_val_score(DR,imdb,y,cv=10,scoring=\"neg_mean_squared_error\")\n",
    "    sc = cross_val_score(DR,imdb,y,cv=10,scoring=\"r2\")\n",
    "    print(\"Mean squared error: %0.4f\"%np.mean(np.abs(score1)))\n",
    "    print(\"Root Mean Squared Error: %0.4f\"%np.sqrt(np.mean(np.abs(score1))))\n",
    "    print(\"R2 score: %0.4f\"%np.mean(np.abs(sc)))\n",
    "    print(\"\\n\")"
   ]
  },
  {
   "cell_type": "code",
   "execution_count": 97,
   "metadata": {
    "collapsed": false
   },
   "outputs": [
    {
     "name": "stdout",
     "output_type": "stream",
     "text": [
      "Mean Squared Error: 1.2628\n",
      "Root Mean Squared Error: 1.1237\n",
      "R2 Score: 0.0080\n"
     ]
    }
   ],
   "source": [
    "score = cross_val_score(LR,imdb,y,cv=10,scoring=\"neg_mean_squared_error\")\n",
    "score1 = cross_val_score(LR,imdb,y,cv=10,scoring=\"r2\")\n",
    "print (\"Mean Squared Error: %0.4f\"%np.mean(np.abs(score)))\n",
    "print (\"Root Mean Squared Error: %0.4f\"%np.sqrt(np.mean(np.abs(score))))\n",
    "print (\"R2 Score: %0.4f\"%np.mean(np.abs(score1)))"
   ]
  },
  {
   "cell_type": "code",
   "execution_count": 98,
   "metadata": {
    "collapsed": false
   },
   "outputs": [
    {
     "name": "stdout",
     "output_type": "stream",
     "text": [
      "Mean Squared Error: 0.7454\n",
      "Root Mean Squared Error: 0.8634\n",
      "R2 Score: 0.4111\n"
     ]
    }
   ],
   "source": [
    "score = cross_val_score(RR,imdb,y,cv=10,scoring=\"neg_mean_squared_error\")\n",
    "score1 = cross_val_score(RR,imdb,y,cv=10,scoring=\"r2\")\n",
    "print (\"Mean Squared Error: %0.4f\"%np.mean(np.abs(score)))\n",
    "print (\"Root Mean Squared Error: %0.4f\"%np.sqrt(np.mean(np.abs(score))))\n",
    "print (\"R2 Score: %0.4f\"%np.mean(score1))"
   ]
  },
  {
   "cell_type": "markdown",
   "metadata": {},
   "source": [
    "Lasso & Ridge Regression with 'alpha=50'"
   ]
  },
  {
   "cell_type": "code",
   "execution_count": 99,
   "metadata": {
    "collapsed": true
   },
   "outputs": [],
   "source": [
    "LR = Lasso(alpha=50)\n",
    "RR = Ridge(alpha=50)"
   ]
  },
  {
   "cell_type": "code",
   "execution_count": 100,
   "metadata": {
    "collapsed": false
   },
   "outputs": [
    {
     "name": "stdout",
     "output_type": "stream",
     "text": [
      "Mean Squared Error: 1.2628\n",
      "Root Mean Squared Error: 1.1237\n",
      "R2 Score: 0.0080\n"
     ]
    }
   ],
   "source": [
    "score = cross_val_score(LR,imdb,y,cv=10,scoring=\"neg_mean_squared_error\")\n",
    "score1 = cross_val_score(LR,imdb,y,cv=10,scoring=\"r2\")\n",
    "print (\"Mean Squared Error: %0.4f\"%np.mean(np.abs(score)))\n",
    "print (\"Root Mean Squared Error: %0.4f\"%np.sqrt(np.mean(np.abs(score))))\n",
    "print (\"R2 Score: %0.4f\"%np.mean(np.abs(score1)))"
   ]
  },
  {
   "cell_type": "code",
   "execution_count": 101,
   "metadata": {
    "collapsed": false
   },
   "outputs": [
    {
     "name": "stdout",
     "output_type": "stream",
     "text": [
      "Mean Squared Error: 0.7539\n",
      "Root Mean Squared Error: 0.8683\n",
      "R2 Score: 0.4046\n"
     ]
    }
   ],
   "source": [
    "score = cross_val_score(RR,imdb,y,cv=10,scoring=\"neg_mean_squared_error\")\n",
    "score1 = cross_val_score(RR,imdb,y,cv=10,scoring=\"r2\")\n",
    "print (\"Mean Squared Error: %0.4f\"%np.mean(np.abs(score)))\n",
    "print (\"Root Mean Squared Error: %0.4f\"%np.sqrt(np.mean(np.abs(score))))\n",
    "print (\"R2 Score: %0.4f\"%np.mean(score1))"
   ]
  },
  {
   "cell_type": "markdown",
   "metadata": {},
   "source": [
    "Lasso & Ridge Regression with 'alpha=100'"
   ]
  },
  {
   "cell_type": "code",
   "execution_count": 102,
   "metadata": {
    "collapsed": true
   },
   "outputs": [],
   "source": [
    "LR = Lasso(alpha=100)\n",
    "RR = Ridge(alpha=100)"
   ]
  },
  {
   "cell_type": "code",
   "execution_count": 103,
   "metadata": {
    "collapsed": false
   },
   "outputs": [
    {
     "name": "stdout",
     "output_type": "stream",
     "text": [
      "Mean Squared Error: 1.2628\n",
      "Root Mean Squared Error: 1.1237\n",
      "R2 Score: 0.0080\n"
     ]
    }
   ],
   "source": [
    "score = cross_val_score(LR,imdb,y,cv=10,scoring=\"neg_mean_squared_error\")\n",
    "score1 = cross_val_score(LR,imdb,y,cv=10,scoring=\"r2\")\n",
    "print (\"Mean Squared Error: %0.4f\"%np.mean(np.abs(score)))\n",
    "print (\"Root Mean Squared Error: %0.4f\"%np.sqrt(np.mean(np.abs(score))))\n",
    "print (\"R2 Score: %0.4f\"%np.mean(np.abs(score1)))"
   ]
  },
  {
   "cell_type": "code",
   "execution_count": 104,
   "metadata": {
    "collapsed": false
   },
   "outputs": [
    {
     "name": "stdout",
     "output_type": "stream",
     "text": [
      "Mean Squared Error: 0.7667\n",
      "Root Mean Squared Error: 0.8756\n",
      "R2 Score: 0.3952\n"
     ]
    }
   ],
   "source": [
    "score = cross_val_score(RR,imdb,y,cv=10,scoring=\"neg_mean_squared_error\")\n",
    "score1 = cross_val_score(RR,imdb,y,cv=10,scoring=\"r2\")\n",
    "print (\"Mean Squared Error: %0.4f\"%np.mean(np.abs(score)))\n",
    "print (\"Root Mean Squared Error: %0.4f\"%np.sqrt(np.mean(np.abs(score))))\n",
    "print (\"R2 Score: %0.4f\"%np.mean(score1))"
   ]
  },
  {
   "cell_type": "markdown",
   "metadata": {},
   "source": [
    "Chosen model's cross validation performance i.e. using Ridge Regression with default parameter setting"
   ]
  },
  {
   "cell_type": "code",
   "execution_count": 105,
   "metadata": {
    "collapsed": false
   },
   "outputs": [
    {
     "name": "stdout",
     "output_type": "stream",
     "text": [
      "Mean Squared Error: 0.7423\n",
      "Root Mean Squared Error: 0.8616\n",
      "R2 Score: 0.4143\n"
     ]
    }
   ],
   "source": [
    "R_R = Ridge()\n",
    "score = cross_val_score(R_R,imdb,y,cv=10,scoring=\"neg_mean_squared_error\")\n",
    "score1 = cross_val_score(R_R,imdb,y,cv=10,scoring=\"r2\")\n",
    "print (\"Mean Squared Error: %0.4f\"%np.mean(np.abs(score)))\n",
    "print (\"Root Mean Squared Error: %0.4f\"%np.sqrt(np.mean(np.abs(score))))\n",
    "print (\"R2 Score: %0.4f\"%np.mean(np.abs(score1)))"
   ]
  },
  {
   "cell_type": "markdown",
   "metadata": {},
   "source": [
    "### Important Features"
   ]
  },
  {
   "cell_type": "markdown",
   "metadata": {},
   "source": [
    "As we can see from above conclusions, Ridge Regression with default parameter settings has the best performance using train-test split with cross-validation"
   ]
  },
  {
   "cell_type": "code",
   "execution_count": 106,
   "metadata": {
    "collapsed": false
   },
   "outputs": [
    {
     "name": "stdout",
     "output_type": "stream",
     "text": [
      "4142    8.2\n",
      "700     6.8\n",
      "1202    7.5\n",
      "4336    5.6\n",
      "3566    7.3\n",
      "549     5.9\n",
      "3629    4.7\n",
      "3647    8.4\n",
      "3197    6.9\n",
      "1783    5.4\n",
      "3095    7.0\n",
      "2401    8.3\n",
      "1257    4.7\n",
      "3574    7.8\n",
      "186     5.5\n",
      "3549    7.3\n",
      "4324    6.4\n",
      "1367    5.7\n",
      "4182    7.6\n",
      "4308    7.3\n",
      "4073    6.9\n",
      "3183    7.1\n",
      "4425    3.3\n",
      "119     8.3\n",
      "2318    8.4\n",
      "4514    6.6\n",
      "3782    4.6\n",
      "1736    7.7\n",
      "4325    5.2\n",
      "500     6.0\n",
      "       ... \n",
      "3997    4.7\n",
      "723     6.6\n",
      "430     6.1\n",
      "2739    4.5\n",
      "4743    3.5\n",
      "4834    4.3\n",
      "1296    4.8\n",
      "1744    8.0\n",
      "4018    8.1\n",
      "4717    7.3\n",
      "4252    8.1\n",
      "660     7.2\n",
      "335     6.7\n",
      "4382    7.1\n",
      "76      5.8\n",
      "4569    6.8\n",
      "3288    4.8\n",
      "1691    6.7\n",
      "2080    6.2\n",
      "1392    4.5\n",
      "13      6.5\n",
      "3796    5.1\n",
      "3841    6.0\n",
      "4643    7.2\n",
      "2270    7.5\n",
      "4148    7.0\n",
      "3527    5.3\n",
      "4672    5.3\n",
      "846     5.1\n",
      "108     6.6\n",
      "Name: imdb_score, dtype: float64\n",
      "[ 6.22796098  6.16020381  6.83532905 ...,  6.34224503  6.27659172\n",
      "  6.26348782]\n",
      "Mean Squared Error: 0.7143\n",
      "Root Mean Squared Error: 0.8452\n",
      "R2 Score: 0.4194\n"
     ]
    }
   ],
   "source": [
    "R_R = Ridge()\n",
    "R_reg = R_R.fit(X_train,Y_train)\n",
    "pred = R_reg.predict(X_test)\n",
    "print (Y_test)\n",
    "print (pred)\n",
    "print (\"Mean Squared Error: %0.4f\"%mean_squared_error(Y_test,pred))\n",
    "print (\"Root Mean Squared Error: %0.4f\"%np.sqrt(mean_squared_error(Y_test,pred)))\n",
    "print (\"R2 Score: %0.4f\"%r2_score(Y_test,pred))"
   ]
  },
  {
   "cell_type": "code",
   "execution_count": 107,
   "metadata": {
    "collapsed": false
   },
   "outputs": [],
   "source": [
    "coefficients = R_reg.coef_"
   ]
  },
  {
   "cell_type": "code",
   "execution_count": 108,
   "metadata": {
    "collapsed": true
   },
   "outputs": [],
   "source": [
    "features = imdb.columns.values"
   ]
  },
  {
   "cell_type": "code",
   "execution_count": 109,
   "metadata": {
    "collapsed": false
   },
   "outputs": [],
   "source": [
    "matrix_negative = np.vstack([features,coefficients]).T"
   ]
  },
  {
   "cell_type": "code",
   "execution_count": 110,
   "metadata": {
    "collapsed": false
   },
   "outputs": [],
   "source": [
    "matrix_positive = matrix_negative[matrix_negative[:,1].argsort()[::-1]]"
   ]
  },
  {
   "cell_type": "markdown",
   "metadata": {},
   "source": [
    "Top positive features and their weights"
   ]
  },
  {
   "cell_type": "code",
   "execution_count": 111,
   "metadata": {
    "collapsed": false
   },
   "outputs": [
    {
     "data": {
      "text/plain": [
       "array([['country_Kyrgyzstan', 1.2547050098532155],\n",
       "       ['language_Korean', 1.1509457726128334],\n",
       "       ['content_rating_TV-MA', 1.0913746710299523],\n",
       "       ['Documentary', 1.0105998530081195],\n",
       "       ['country_Iran', 0.828704005540298],\n",
       "       ['content_rating_TV-G', 0.8284871859390807],\n",
       "       ['language_Telugu', 0.7795143021509318],\n",
       "       ['content_rating_TV-PG', 0.5963084354328212],\n",
       "       ['content_rating_TV-Y7', 0.5786589536666419],\n",
       "       ['language_Japanese', 0.5713429311425497],\n",
       "       ['language_None', 0.5407355460875604],\n",
       "       ['content_rating_TV-Y', 0.5196393792102163],\n",
       "       ['language_Kannada', 0.5187087417391961],\n",
       "       ['num_voted_users', 0.5141086187314063],\n",
       "       ['country_Libya', 0.5003527591402297],\n",
       "       ['Drama', 0.49578718735091165],\n",
       "       ['Animation', 0.4849886509577091],\n",
       "       ['language_Danish', 0.4123181690949352],\n",
       "       ['content_rating_TV-14', 0.3987449664973493],\n",
       "       ['country_Argentina', 0.3851741049373123],\n",
       "       ['content_rating_X', 0.36549697251375585],\n",
       "       ['language_Norwegian', 0.352491175921368],\n",
       "       ['country_Czech Republic', 0.314480707453773],\n",
       "       ['country_Poland', 0.28222347722699653],\n",
       "       ['language_Polish', 0.2822234772269959],\n",
       "       ['country_Ireland', 0.27406720968510684],\n",
       "       ['language_Urdu', 0.268166011768904],\n",
       "       ['country_Pakistan', 0.26816601176890387],\n",
       "       ['country_New Zealand', 0.26655743683396255],\n",
       "       ['country_Philippines', 0.25771986686918946],\n",
       "       ['country_Cameroon', 0.24904405057624274],\n",
       "       ['num_critic_for_reviews', 0.24540579371734844],\n",
       "       ['color_ Black and White', 0.23689559186079098],\n",
       "       ['country_UK', 0.2347855866568158],\n",
       "       ['country_Panama', 0.2344164581052846],\n",
       "       ['country_West Germany', 0.22590784872402694],\n",
       "       ['country_Colombia', 0.20916334044754042],\n",
       "       ['content_rating_M', 0.19292432224647812],\n",
       "       ['Sport', 0.18644835668033208],\n",
       "       ['country_Australia', 0.17570636573708506],\n",
       "       ['country_Taiwan', 0.17339459394338258],\n",
       "       ['country_Bulgaria', 0.15181173700048003],\n",
       "       ['language_Cantonese', 0.1452759634733748],\n",
       "       ['country_Indonesia', 0.14382437980863916],\n",
       "       ['country_China', 0.14208053099389922],\n",
       "       ['duration', 0.12718088108709036],\n",
       "       ['Musical', 0.11578019795233165],\n",
       "       ['Biography', 0.10819791229854676],\n",
       "       ['country_Mexico', 0.1062351774945468],\n",
       "       ['content_rating_Approved', 0.10371760948922265],\n",
       "       ['War', 0.10193227857850963],\n",
       "       ['country_Spain', 0.09476834313918678],\n",
       "       ['language_German', 0.08762333333033254],\n",
       "       ['Crime', 0.08432106293511274],\n",
       "       ['country_Hong Kong', 0.08403905006450106],\n",
       "       ['country_Kenya', 0.06646960346757186],\n",
       "       ['language_Swahili', 0.06646960346757175],\n",
       "       ['language_Maya', 0.06470554307544098],\n",
       "       ['country_Netherlands', 0.05476093938814291],\n",
       "       ['language_Dutch', 0.05476093938814128],\n",
       "       ['Adventure', 0.0540495013405],\n",
       "       ['History', 0.045009660912052565],\n",
       "       ['country_Slovenia', 0.04138606515450745],\n",
       "       ['language_Slovenian', 0.04138606515450729],\n",
       "       ['country_Sweden', 0.0360420331584872],\n",
       "       ['language_Swedish', 0.03604203315848629],\n",
       "       ['Mystery', 0.028833422269698313],\n",
       "       ['actor_1_facebook_likes', 0.027645812341205996],\n",
       "       ['language_Zulu', 0.022447725040813302],\n",
       "       ['director_facebook_likes', 0.021384894635771052],\n",
       "       ['language_Portuguese', 0.019818629774075957],\n",
       "       ['Romance', 0.01871435733358147],\n",
       "       ['language_Mongolian', 0.010374721886795016],\n",
       "       ['country_Georgia', 0.0],\n",
       "       ['language_Panjabi', 0.0],\n",
       "       ['language_Kazakh', 0.0],\n",
       "       ['language_Filipino', 0.0],\n",
       "       ['country_New Line', 0.0],\n",
       "       ['country_Soviet Union', 0.0],\n",
       "       ['language_Dzongkha', 0.0],\n",
       "       ['language_Dari', 0.0],\n",
       "       ['language_Czech', 0.0],\n",
       "       ['language_Aramaic', 0.0],\n",
       "       ['language_Aboriginal', 0.0],\n",
       "       ['country_Official site', 0.0],\n",
       "       ['language_Tamil', 0.0],\n",
       "       ['country_United Arab Emirates', 0.0],\n",
       "       ['country_Bahamas', 0.0],\n",
       "       ['country_Afghanistan', 0.0],\n",
       "       ['country_Dominican Republic', 0.0],\n",
       "       ['country_Egypt', 0.0],\n",
       "       ['country_Chile', 0.0],\n",
       "       ['language_Vietnamese', 0.0],\n",
       "       ['language_Arabic', -0.0008612358467638028],\n",
       "       ['content_rating_GP', -0.0022051236029241392],\n",
       "       ['actor_2_facebook_likes', -0.0030331001332927696],\n",
       "       ['language_French', -0.012462169823841967],\n",
       "       ['Fantasy', -0.018399929735174257],\n",
       "       ['language_Romanian', -0.022006686001209478],\n",
       "       ['country_Romania', -0.03279312635710521],\n",
       "       ['country_Brazil', -0.03944142966974096],\n",
       "       ['country_France', -0.04102568273819922],\n",
       "       ['country_Denmark', -0.04450253456123118],\n",
       "       ['language_Indonesian', -0.046558408338448244],\n",
       "       ['content_rating_Passed', -0.05390749432767976],\n",
       "       ['actor_3_facebook_likes', -0.05856280797849627],\n",
       "       ['Sci_Fi', -0.0626824230735443],\n",
       "       ['Comedy', -0.06319939106595455],\n",
       "       ['country_Italy', -0.07569953488294279],\n",
       "       ['country_Finland', -0.07639153559233595],\n",
       "       ['movie_facebook_likes', -0.0810974832082851],\n",
       "       ['country_Canada', -0.08271037409519225],\n",
       "       ['country_Hungary', -0.08643107241186317],\n",
       "       ['language_Hungarian', -0.08643107241186329],\n",
       "       ['Thriller', -0.11460921665989587],\n",
       "       ['country_Greece', -0.1197264656274295],\n",
       "       ['language_Greek', -0.11972646562742983],\n",
       "       ['language_Italian', -0.1293776054675111],\n",
       "       ['country_USA', -0.13595847685814164],\n",
       "       ['num_user_for_reviews', -0.146938126325126],\n",
       "       ['country_Norway', -0.14841291657051364],\n",
       "       ['language_Hebrew', -0.15775377864560064],\n",
       "       ['country_Israel', -0.1577537786456013],\n",
       "       ['language_Persian', -0.16984017710189697],\n",
       "       ['language_Thai', -0.1734007480739613],\n",
       "       ['country_Turkey', -0.18518139497140612],\n",
       "       ['country_Belgium', -0.2030421985258222],\n",
       "       ['Family', -0.20776169857903548],\n",
       "       ['Action', -0.23242024277036716],\n",
       "       ['country_Nigeria', -0.23605179448110206],\n",
       "       ['color_Color', -0.23689559186073988],\n",
       "       ['country_Japan', -0.24077453701651405],\n",
       "       ['country_Iceland', -0.2685985555407541],\n",
       "       ['language_Icelandic', -0.2685985555407542],\n",
       "       ['country_Germany', -0.2701626897599968],\n",
       "       ['language_Spanish', -0.28577751294666476],\n",
       "       ['content_rating_Unrated', -0.2929256540461785],\n",
       "       ['language_Hindi', -0.3011911306338893],\n",
       "       ['country_Cambodia', -0.3026947229778357],\n",
       "       ['Horror', -0.3076327917362715],\n",
       "       ['country_Thailand', -0.341484892721991],\n",
       "       ['language_Mandarin', -0.3483138274590078],\n",
       "       ['country_India', -0.35286358594171496],\n",
       "       ['country_Aruba', -0.35919974137349475],\n",
       "       ['country_Slovakia', -0.3622715473626332],\n",
       "       ['country_South Africa', -0.38618052293536614],\n",
       "       ['country_Switzerland', -0.47894509408005564],\n",
       "       ['country_Russia', -0.479857754782267],\n",
       "       ['country_Peru', -0.4994339124990935],\n",
       "       ['language_Russian', -0.5244869840729296],\n",
       "       ['content_rating_NC-17', -0.5669048007212489],\n",
       "       ['language_English', -0.5670054326326618],\n",
       "       ['content_rating_Not Rated', -0.6181587070893694],\n",
       "       ['language_Chinese', -0.667120041403609],\n",
       "       ['content_rating_R', -0.7047927719342536],\n",
       "       ['content_rating_G', -0.7113662064733471],\n",
       "       ['content_rating_PG', -0.7266729597769002],\n",
       "       ['content_rating_PG-13', -0.9984187780547448],\n",
       "       ['country_South Korea', -1.0483968201892189],\n",
       "       ['language_Bosnian', -1.5444388534662965]], dtype=object)"
      ]
     },
     "execution_count": 111,
     "metadata": {},
     "output_type": "execute_result"
    }
   ],
   "source": [
    "matrix_positive"
   ]
  },
  {
   "cell_type": "markdown",
   "metadata": {},
   "source": [
    "Top negative features and their weights"
   ]
  },
  {
   "cell_type": "code",
   "execution_count": 112,
   "metadata": {
    "collapsed": false
   },
   "outputs": [
    {
     "data": {
      "text/plain": [
       "array([['num_critic_for_reviews', 0.24540579371734844],\n",
       "       ['duration', 0.12718088108709036],\n",
       "       ['director_facebook_likes', 0.021384894635771052],\n",
       "       ['actor_3_facebook_likes', -0.05856280797849627],\n",
       "       ['actor_1_facebook_likes', 0.027645812341205996],\n",
       "       ['num_voted_users', 0.5141086187314063],\n",
       "       ['num_user_for_reviews', -0.146938126325126],\n",
       "       ['actor_2_facebook_likes', -0.0030331001332927696],\n",
       "       ['movie_facebook_likes', -0.0810974832082851],\n",
       "       ['Adventure', 0.0540495013405],\n",
       "       ['Action', -0.23242024277036716],\n",
       "       ['Drama', 0.49578718735091165],\n",
       "       ['Fantasy', -0.018399929735174257],\n",
       "       ['Romance', 0.01871435733358147],\n",
       "       ['Comedy', -0.06319939106595455],\n",
       "       ['Family', -0.20776169857903548],\n",
       "       ['Musical', 0.11578019795233165],\n",
       "       ['History', 0.045009660912052565],\n",
       "       ['War', 0.10193227857850963],\n",
       "       ['Documentary', 1.0105998530081195],\n",
       "       ['Sport', 0.18644835668033208],\n",
       "       ['Crime', 0.08432106293511274],\n",
       "       ['Horror', -0.3076327917362715],\n",
       "       ['Mystery', 0.028833422269698313],\n",
       "       ['Sci_Fi', -0.0626824230735443],\n",
       "       ['Thriller', -0.11460921665989587],\n",
       "       ['Animation', 0.4849886509577091],\n",
       "       ['Biography', 0.10819791229854676],\n",
       "       ['color_ Black and White', 0.23689559186079098],\n",
       "       ['color_Color', -0.23689559186073988],\n",
       "       ['language_Aboriginal', 0.0],\n",
       "       ['language_Arabic', -0.0008612358467638028],\n",
       "       ['language_Aramaic', 0.0],\n",
       "       ['language_Bosnian', -1.5444388534662965],\n",
       "       ['language_Cantonese', 0.1452759634733748],\n",
       "       ['language_Chinese', -0.667120041403609],\n",
       "       ['language_Czech', 0.0],\n",
       "       ['language_Danish', 0.4123181690949352],\n",
       "       ['language_Dari', 0.0],\n",
       "       ['language_Dutch', 0.05476093938814128],\n",
       "       ['language_Dzongkha', 0.0],\n",
       "       ['language_English', -0.5670054326326618],\n",
       "       ['language_Filipino', 0.0],\n",
       "       ['language_French', -0.012462169823841967],\n",
       "       ['language_German', 0.08762333333033254],\n",
       "       ['language_Greek', -0.11972646562742983],\n",
       "       ['language_Hebrew', -0.15775377864560064],\n",
       "       ['language_Hindi', -0.3011911306338893],\n",
       "       ['language_Hungarian', -0.08643107241186329],\n",
       "       ['language_Icelandic', -0.2685985555407542],\n",
       "       ['language_Indonesian', -0.046558408338448244],\n",
       "       ['language_Italian', -0.1293776054675111],\n",
       "       ['language_Japanese', 0.5713429311425497],\n",
       "       ['language_Kannada', 0.5187087417391961],\n",
       "       ['language_Kazakh', 0.0],\n",
       "       ['language_Korean', 1.1509457726128334],\n",
       "       ['language_Mandarin', -0.3483138274590078],\n",
       "       ['language_Maya', 0.06470554307544098],\n",
       "       ['language_Mongolian', 0.010374721886795016],\n",
       "       ['language_None', 0.5407355460875604],\n",
       "       ['language_Norwegian', 0.352491175921368],\n",
       "       ['language_Panjabi', 0.0],\n",
       "       ['language_Persian', -0.16984017710189697],\n",
       "       ['language_Polish', 0.2822234772269959],\n",
       "       ['language_Portuguese', 0.019818629774075957],\n",
       "       ['language_Romanian', -0.022006686001209478],\n",
       "       ['language_Russian', -0.5244869840729296],\n",
       "       ['language_Slovenian', 0.04138606515450729],\n",
       "       ['language_Spanish', -0.28577751294666476],\n",
       "       ['language_Swahili', 0.06646960346757175],\n",
       "       ['language_Swedish', 0.03604203315848629],\n",
       "       ['language_Tamil', 0.0],\n",
       "       ['language_Telugu', 0.7795143021509318],\n",
       "       ['language_Thai', -0.1734007480739613],\n",
       "       ['language_Urdu', 0.268166011768904],\n",
       "       ['language_Vietnamese', 0.0],\n",
       "       ['language_Zulu', 0.022447725040813302],\n",
       "       ['country_Afghanistan', 0.0],\n",
       "       ['country_Argentina', 0.3851741049373123],\n",
       "       ['country_Aruba', -0.35919974137349475],\n",
       "       ['country_Australia', 0.17570636573708506],\n",
       "       ['country_Bahamas', 0.0],\n",
       "       ['country_Belgium', -0.2030421985258222],\n",
       "       ['country_Brazil', -0.03944142966974096],\n",
       "       ['country_Bulgaria', 0.15181173700048003],\n",
       "       ['country_Cambodia', -0.3026947229778357],\n",
       "       ['country_Cameroon', 0.24904405057624274],\n",
       "       ['country_Canada', -0.08271037409519225],\n",
       "       ['country_Chile', 0.0],\n",
       "       ['country_China', 0.14208053099389922],\n",
       "       ['country_Colombia', 0.20916334044754042],\n",
       "       ['country_Czech Republic', 0.314480707453773],\n",
       "       ['country_Denmark', -0.04450253456123118],\n",
       "       ['country_Dominican Republic', 0.0],\n",
       "       ['country_Egypt', 0.0],\n",
       "       ['country_Finland', -0.07639153559233595],\n",
       "       ['country_France', -0.04102568273819922],\n",
       "       ['country_Georgia', 0.0],\n",
       "       ['country_Germany', -0.2701626897599968],\n",
       "       ['country_Greece', -0.1197264656274295],\n",
       "       ['country_Hong Kong', 0.08403905006450106],\n",
       "       ['country_Hungary', -0.08643107241186317],\n",
       "       ['country_Iceland', -0.2685985555407541],\n",
       "       ['country_India', -0.35286358594171496],\n",
       "       ['country_Indonesia', 0.14382437980863916],\n",
       "       ['country_Iran', 0.828704005540298],\n",
       "       ['country_Ireland', 0.27406720968510684],\n",
       "       ['country_Israel', -0.1577537786456013],\n",
       "       ['country_Italy', -0.07569953488294279],\n",
       "       ['country_Japan', -0.24077453701651405],\n",
       "       ['country_Kenya', 0.06646960346757186],\n",
       "       ['country_Kyrgyzstan', 1.2547050098532155],\n",
       "       ['country_Libya', 0.5003527591402297],\n",
       "       ['country_Mexico', 0.1062351774945468],\n",
       "       ['country_Netherlands', 0.05476093938814291],\n",
       "       ['country_New Line', 0.0],\n",
       "       ['country_New Zealand', 0.26655743683396255],\n",
       "       ['country_Nigeria', -0.23605179448110206],\n",
       "       ['country_Norway', -0.14841291657051364],\n",
       "       ['country_Official site', 0.0],\n",
       "       ['country_Pakistan', 0.26816601176890387],\n",
       "       ['country_Panama', 0.2344164581052846],\n",
       "       ['country_Peru', -0.4994339124990935],\n",
       "       ['country_Philippines', 0.25771986686918946],\n",
       "       ['country_Poland', 0.28222347722699653],\n",
       "       ['country_Romania', -0.03279312635710521],\n",
       "       ['country_Russia', -0.479857754782267],\n",
       "       ['country_Slovakia', -0.3622715473626332],\n",
       "       ['country_Slovenia', 0.04138606515450745],\n",
       "       ['country_South Africa', -0.38618052293536614],\n",
       "       ['country_South Korea', -1.0483968201892189],\n",
       "       ['country_Soviet Union', 0.0],\n",
       "       ['country_Spain', 0.09476834313918678],\n",
       "       ['country_Sweden', 0.0360420331584872],\n",
       "       ['country_Switzerland', -0.47894509408005564],\n",
       "       ['country_Taiwan', 0.17339459394338258],\n",
       "       ['country_Thailand', -0.341484892721991],\n",
       "       ['country_Turkey', -0.18518139497140612],\n",
       "       ['country_UK', 0.2347855866568158],\n",
       "       ['country_USA', -0.13595847685814164],\n",
       "       ['country_United Arab Emirates', 0.0],\n",
       "       ['country_West Germany', 0.22590784872402694],\n",
       "       ['content_rating_Approved', 0.10371760948922265],\n",
       "       ['content_rating_G', -0.7113662064733471],\n",
       "       ['content_rating_GP', -0.0022051236029241392],\n",
       "       ['content_rating_M', 0.19292432224647812],\n",
       "       ['content_rating_NC-17', -0.5669048007212489],\n",
       "       ['content_rating_Not Rated', -0.6181587070893694],\n",
       "       ['content_rating_PG', -0.7266729597769002],\n",
       "       ['content_rating_PG-13', -0.9984187780547448],\n",
       "       ['content_rating_Passed', -0.05390749432767976],\n",
       "       ['content_rating_R', -0.7047927719342536],\n",
       "       ['content_rating_TV-14', 0.3987449664973493],\n",
       "       ['content_rating_TV-G', 0.8284871859390807],\n",
       "       ['content_rating_TV-MA', 1.0913746710299523],\n",
       "       ['content_rating_TV-PG', 0.5963084354328212],\n",
       "       ['content_rating_TV-Y', 0.5196393792102163],\n",
       "       ['content_rating_TV-Y7', 0.5786589536666419],\n",
       "       ['content_rating_Unrated', -0.2929256540461785],\n",
       "       ['content_rating_X', 0.36549697251375585]], dtype=object)"
      ]
     },
     "execution_count": 112,
     "metadata": {},
     "output_type": "execute_result"
    }
   ],
   "source": [
    "matrix_negative"
   ]
  },
  {
   "cell_type": "markdown",
   "metadata": {},
   "source": [
    "Conclusion"
   ]
  },
  {
   "cell_type": "markdown",
   "metadata": {},
   "source": [
    "Seeing the overall results, it can be deduced that, Ridge Regression with default parameter setting works better than Decision Tree Regressor and Lasso Regression"
   ]
  }
 ],
 "metadata": {
  "anaconda-cloud": {},
  "kernelspec": {
   "display_name": "Python [Root]",
   "language": "python",
   "name": "Python [Root]"
  },
  "language_info": {
   "codemirror_mode": {
    "name": "ipython",
    "version": 3
   },
   "file_extension": ".py",
   "mimetype": "text/x-python",
   "name": "python",
   "nbconvert_exporter": "python",
   "pygments_lexer": "ipython3",
   "version": "3.5.2"
  }
 },
 "nbformat": 4,
 "nbformat_minor": 1
}
