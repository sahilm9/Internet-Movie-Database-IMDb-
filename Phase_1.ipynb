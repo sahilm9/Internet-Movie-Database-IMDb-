{
 "cells": [
  {
   "cell_type": "markdown",
   "metadata": {},
   "source": [
    "# Internet Movie Database (IMDb)\n"
   ]
  },
  {
   "cell_type": "markdown",
   "metadata": {
    "collapsed": true
   },
   "source": [
    "Project Description: Predicting the IMDb rating of a movie by building a regression model on IMDb dataset "
   ]
  },
  {
   "cell_type": "code",
   "execution_count": 1,
   "metadata": {
    "collapsed": true
   },
   "outputs": [],
   "source": [
    "import pandas as pd\n",
    "from pandas import *\n",
    "import matplotlib.pyplot as plt\n",
    "%matplotlib inline "
   ]
  },
  {
   "cell_type": "markdown",
   "metadata": {},
   "source": [
    "Loading the data set"
   ]
  },
  {
   "cell_type": "code",
   "execution_count": 2,
   "metadata": {
    "collapsed": false
   },
   "outputs": [],
   "source": [
    "IMDb_dataset = pd.read_csv(\"/Users/Sahil/Documents/masters/ml_project/movie_metadata.csv\")"
   ]
  },
  {
   "cell_type": "markdown",
   "metadata": {},
   "source": [
    "Displaying the data set"
   ]
  },
  {
   "cell_type": "code",
   "execution_count": 3,
   "metadata": {
    "collapsed": false
   },
   "outputs": [
    {
     "data": {
      "text/plain": [
       "<bound method DataFrame.info of                  color       director_name  num_critic_for_reviews  duration  \\\n",
       "0                Color       James Cameron                   723.0     178.0   \n",
       "1                Color      Gore Verbinski                   302.0     169.0   \n",
       "2                Color          Sam Mendes                   602.0     148.0   \n",
       "3                Color   Christopher Nolan                   813.0     164.0   \n",
       "4                  NaN         Doug Walker                     NaN       NaN   \n",
       "5                Color      Andrew Stanton                   462.0     132.0   \n",
       "6                Color           Sam Raimi                   392.0     156.0   \n",
       "7                Color        Nathan Greno                   324.0     100.0   \n",
       "8                Color         Joss Whedon                   635.0     141.0   \n",
       "9                Color         David Yates                   375.0     153.0   \n",
       "10               Color         Zack Snyder                   673.0     183.0   \n",
       "11               Color        Bryan Singer                   434.0     169.0   \n",
       "12               Color        Marc Forster                   403.0     106.0   \n",
       "13               Color      Gore Verbinski                   313.0     151.0   \n",
       "14               Color      Gore Verbinski                   450.0     150.0   \n",
       "15               Color         Zack Snyder                   733.0     143.0   \n",
       "16               Color      Andrew Adamson                   258.0     150.0   \n",
       "17               Color         Joss Whedon                   703.0     173.0   \n",
       "18               Color        Rob Marshall                   448.0     136.0   \n",
       "19               Color    Barry Sonnenfeld                   451.0     106.0   \n",
       "20               Color       Peter Jackson                   422.0     164.0   \n",
       "21               Color           Marc Webb                   599.0     153.0   \n",
       "22               Color        Ridley Scott                   343.0     156.0   \n",
       "23               Color       Peter Jackson                   509.0     186.0   \n",
       "24               Color         Chris Weitz                   251.0     113.0   \n",
       "25               Color       Peter Jackson                   446.0     201.0   \n",
       "26               Color       James Cameron                   315.0     194.0   \n",
       "27               Color       Anthony Russo                   516.0     147.0   \n",
       "28               Color          Peter Berg                   377.0     131.0   \n",
       "29               Color     Colin Trevorrow                   644.0     124.0   \n",
       "...                ...                 ...                     ...       ...   \n",
       "5013             Color          Eric Eason                    28.0      79.0   \n",
       "5014             Color            Uwe Boll                    58.0      80.0   \n",
       "5015   Black and White   Richard Linklater                    61.0     100.0   \n",
       "5016             Color     Joseph Mazzella                     NaN      90.0   \n",
       "5017             Color        Travis Legge                     1.0      90.0   \n",
       "5018             Color       Alex Kendrick                     5.0     120.0   \n",
       "5019             Color       Marcus Nispel                    43.0      91.0   \n",
       "5020               NaN     Brandon Landers                     NaN     143.0   \n",
       "5021             Color         Jay Duplass                    51.0      85.0   \n",
       "5022   Black and White          Jim Chuchu                     6.0      60.0   \n",
       "5023             Color          Daryl Wein                    22.0      88.0   \n",
       "5024             Color         Jason Trost                    42.0      78.0   \n",
       "5025             Color         John Waters                    73.0     108.0   \n",
       "5026             Color     Olivier Assayas                    81.0     110.0   \n",
       "5027             Color        Jafar Panahi                    64.0      90.0   \n",
       "5028   Black and White       Ivan Kavanagh                    12.0      83.0   \n",
       "5029             Color    Kiyoshi Kurosawa                    78.0     111.0   \n",
       "5030             Color        Tadeo Garcia                     NaN      84.0   \n",
       "5031             Color  Thomas L. Phillips                    13.0      82.0   \n",
       "5032             Color     Ash Baron-Cohen                    10.0      98.0   \n",
       "5033             Color       Shane Carruth                   143.0      77.0   \n",
       "5034             Color    Neill Dela Llana                    35.0      80.0   \n",
       "5035             Color    Robert Rodriguez                    56.0      81.0   \n",
       "5036             Color     Anthony Vallone                     NaN      84.0   \n",
       "5037             Color        Edward Burns                    14.0      95.0   \n",
       "5038             Color         Scott Smith                     1.0      87.0   \n",
       "5039             Color                 NaN                    43.0      43.0   \n",
       "5040             Color    Benjamin Roberds                    13.0      76.0   \n",
       "5041             Color         Daniel Hsia                    14.0     100.0   \n",
       "5042             Color            Jon Gunn                    43.0      90.0   \n",
       "\n",
       "      director_facebook_likes  actor_3_facebook_likes          actor_2_name  \\\n",
       "0                         0.0                   855.0      Joel David Moore   \n",
       "1                       563.0                  1000.0         Orlando Bloom   \n",
       "2                         0.0                   161.0          Rory Kinnear   \n",
       "3                     22000.0                 23000.0        Christian Bale   \n",
       "4                       131.0                     NaN            Rob Walker   \n",
       "5                       475.0                   530.0       Samantha Morton   \n",
       "6                         0.0                  4000.0          James Franco   \n",
       "7                        15.0                   284.0          Donna Murphy   \n",
       "8                         0.0                 19000.0     Robert Downey Jr.   \n",
       "9                       282.0                 10000.0      Daniel Radcliffe   \n",
       "10                        0.0                  2000.0          Lauren Cohan   \n",
       "11                        0.0                   903.0         Marlon Brando   \n",
       "12                      395.0                   393.0       Mathieu Amalric   \n",
       "13                      563.0                  1000.0         Orlando Bloom   \n",
       "14                      563.0                  1000.0           Ruth Wilson   \n",
       "15                        0.0                   748.0    Christopher Meloni   \n",
       "16                       80.0                   201.0  Pierfrancesco Favino   \n",
       "17                        0.0                 19000.0     Robert Downey Jr.   \n",
       "18                      252.0                  1000.0           Sam Claflin   \n",
       "19                      188.0                   718.0     Michael Stuhlbarg   \n",
       "20                        0.0                   773.0            Adam Brown   \n",
       "21                      464.0                   963.0       Andrew Garfield   \n",
       "22                        0.0                   738.0          William Hurt   \n",
       "23                        0.0                   773.0            Adam Brown   \n",
       "24                      129.0                  1000.0             Eva Green   \n",
       "25                        0.0                    84.0    Thomas Kretschmann   \n",
       "26                        0.0                   794.0          Kate Winslet   \n",
       "27                       94.0                 11000.0    Scarlett Johansson   \n",
       "28                      532.0                   627.0   Alexander Skarsgård   \n",
       "29                      365.0                  1000.0            Judy Greer   \n",
       "...                       ...                     ...                   ...   \n",
       "5013                      3.0                    42.0        Panchito Gómez   \n",
       "5014                    892.0                   492.0    Katharine Isabelle   \n",
       "5015                      0.0                     0.0     Richard Linklater   \n",
       "5016                      0.0                     9.0          Mikaal Bates   \n",
       "5017                    138.0                   138.0         Suzi Lorraine   \n",
       "5018                    589.0                     4.0           Lisa Arnold   \n",
       "5019                    158.0                   265.0       Brittany Curran   \n",
       "5020                      8.0                     8.0       Alana Kaniewski   \n",
       "5021                    157.0                    10.0         Katie Aselton   \n",
       "5022                      0.0                     4.0         Olwenya Maina   \n",
       "5023                     38.0                   211.0         Heather Burns   \n",
       "5024                     91.0                    86.0           Jason Trost   \n",
       "5025                      0.0                   105.0            Mink Stole   \n",
       "5026                    107.0                    45.0        Béatrice Dalle   \n",
       "5027                    397.0                     0.0     Nargess Mamizadeh   \n",
       "5028                     18.0                     0.0         Michael Parle   \n",
       "5029                     62.0                     6.0         Anna Nakagawa   \n",
       "5030                      5.0                    12.0        Michael Cortez   \n",
       "5031                    120.0                    84.0            Joe Coffey   \n",
       "5032                      3.0                   152.0     Stanley B. Herman   \n",
       "5033                    291.0                     8.0        David Sullivan   \n",
       "5034                      0.0                     0.0       Edgar Tancangco   \n",
       "5035                      0.0                     6.0       Peter Marquardt   \n",
       "5036                      2.0                     2.0        John Considine   \n",
       "5037                      0.0                   133.0    Caitlin FitzGerald   \n",
       "5038                      2.0                   318.0         Daphne Zuniga   \n",
       "5039                      NaN                   319.0         Valorie Curry   \n",
       "5040                      0.0                     0.0         Maxwell Moody   \n",
       "5041                      0.0                   489.0         Daniel Henney   \n",
       "5042                     16.0                    16.0      Brian Herzlinger   \n",
       "\n",
       "      actor_1_facebook_likes        gross  \\\n",
       "0                     1000.0  760505847.0   \n",
       "1                    40000.0  309404152.0   \n",
       "2                    11000.0  200074175.0   \n",
       "3                    27000.0  448130642.0   \n",
       "4                      131.0          NaN   \n",
       "5                      640.0   73058679.0   \n",
       "6                    24000.0  336530303.0   \n",
       "7                      799.0  200807262.0   \n",
       "8                    26000.0  458991599.0   \n",
       "9                    25000.0  301956980.0   \n",
       "10                   15000.0  330249062.0   \n",
       "11                   18000.0  200069408.0   \n",
       "12                     451.0  168368427.0   \n",
       "13                   40000.0  423032628.0   \n",
       "14                   40000.0   89289910.0   \n",
       "15                   15000.0  291021565.0   \n",
       "16                   22000.0  141614023.0   \n",
       "17                   26000.0  623279547.0   \n",
       "18                   40000.0  241063875.0   \n",
       "19                   10000.0  179020854.0   \n",
       "20                    5000.0  255108370.0   \n",
       "21                   15000.0  262030663.0   \n",
       "22                     891.0  105219735.0   \n",
       "23                    5000.0  258355354.0   \n",
       "24                   16000.0   70083519.0   \n",
       "25                    6000.0  218051260.0   \n",
       "26                   29000.0  658672302.0   \n",
       "27                   21000.0  407197282.0   \n",
       "28                   14000.0   65173160.0   \n",
       "29                    3000.0  652177271.0   \n",
       "...                      ...          ...   \n",
       "5013                    93.0          NaN   \n",
       "5014                   986.0          NaN   \n",
       "5015                     5.0    1227508.0   \n",
       "5016                   313.0          NaN   \n",
       "5017                   370.0          NaN   \n",
       "5018                    51.0          NaN   \n",
       "5019                   630.0          NaN   \n",
       "5020                   720.0          NaN   \n",
       "5021                   830.0     192467.0   \n",
       "5022                   147.0          NaN   \n",
       "5023                   331.0      76382.0   \n",
       "5024                   407.0          NaN   \n",
       "5025                   462.0     180483.0   \n",
       "5026                   576.0     136007.0   \n",
       "5027                     5.0     673780.0   \n",
       "5028                    10.0          NaN   \n",
       "5029                    89.0      94596.0   \n",
       "5030                    21.0          NaN   \n",
       "5031                   785.0          NaN   \n",
       "5032                   789.0          NaN   \n",
       "5033                   291.0     424760.0   \n",
       "5034                     0.0      70071.0   \n",
       "5035                   121.0    2040920.0   \n",
       "5036                    45.0          NaN   \n",
       "5037                   296.0       4584.0   \n",
       "5038                   637.0          NaN   \n",
       "5039                   841.0          NaN   \n",
       "5040                     0.0          NaN   \n",
       "5041                   946.0      10443.0   \n",
       "5042                    86.0      85222.0   \n",
       "\n",
       "                                                 genres         ...           \\\n",
       "0                       Action|Adventure|Fantasy|Sci-Fi         ...            \n",
       "1                              Action|Adventure|Fantasy         ...            \n",
       "2                             Action|Adventure|Thriller         ...            \n",
       "3                                       Action|Thriller         ...            \n",
       "4                                           Documentary         ...            \n",
       "5                               Action|Adventure|Sci-Fi         ...            \n",
       "6                              Action|Adventure|Romance         ...            \n",
       "7     Adventure|Animation|Comedy|Family|Fantasy|Musi...         ...            \n",
       "8                               Action|Adventure|Sci-Fi         ...            \n",
       "9                      Adventure|Family|Fantasy|Mystery         ...            \n",
       "10                              Action|Adventure|Sci-Fi         ...            \n",
       "11                              Action|Adventure|Sci-Fi         ...            \n",
       "12                                     Action|Adventure         ...            \n",
       "13                             Action|Adventure|Fantasy         ...            \n",
       "14                             Action|Adventure|Western         ...            \n",
       "15                      Action|Adventure|Fantasy|Sci-Fi         ...            \n",
       "16                      Action|Adventure|Family|Fantasy         ...            \n",
       "17                              Action|Adventure|Sci-Fi         ...            \n",
       "18                             Action|Adventure|Fantasy         ...            \n",
       "19        Action|Adventure|Comedy|Family|Fantasy|Sci-Fi         ...            \n",
       "20                                    Adventure|Fantasy         ...            \n",
       "21                             Action|Adventure|Fantasy         ...            \n",
       "22                       Action|Adventure|Drama|History         ...            \n",
       "23                                    Adventure|Fantasy         ...            \n",
       "24                             Adventure|Family|Fantasy         ...            \n",
       "25                       Action|Adventure|Drama|Romance         ...            \n",
       "26                                        Drama|Romance         ...            \n",
       "27                              Action|Adventure|Sci-Fi         ...            \n",
       "28                     Action|Adventure|Sci-Fi|Thriller         ...            \n",
       "29                     Action|Adventure|Sci-Fi|Thriller         ...            \n",
       "...                                                 ...         ...            \n",
       "5013                                       Drama|Family         ...            \n",
       "5014                              Action|Crime|Thriller         ...            \n",
       "5015                                       Comedy|Drama         ...            \n",
       "5016                               Crime|Drama|Thriller         ...            \n",
       "5017                                     Comedy|Romance         ...            \n",
       "5018                                              Drama         ...            \n",
       "5019                            Horror|Mystery|Thriller         ...            \n",
       "5020                              Drama|Horror|Thriller         ...            \n",
       "5021                               Comedy|Drama|Romance         ...            \n",
       "5022                                              Drama         ...            \n",
       "5023                                            Romance         ...            \n",
       "5024                                    Sci-Fi|Thriller         ...            \n",
       "5025                                Comedy|Crime|Horror         ...            \n",
       "5026                                Drama|Music|Romance         ...            \n",
       "5027                                              Drama         ...            \n",
       "5028                                             Horror         ...            \n",
       "5029                      Crime|Horror|Mystery|Thriller         ...            \n",
       "5030                                              Drama         ...            \n",
       "5031                             Comedy|Horror|Thriller         ...            \n",
       "5032                                        Crime|Drama         ...            \n",
       "5033                              Drama|Sci-Fi|Thriller         ...            \n",
       "5034                                           Thriller         ...            \n",
       "5035                Action|Crime|Drama|Romance|Thriller         ...            \n",
       "5036                                        Crime|Drama         ...            \n",
       "5037                                       Comedy|Drama         ...            \n",
       "5038                                       Comedy|Drama         ...            \n",
       "5039                       Crime|Drama|Mystery|Thriller         ...            \n",
       "5040                              Drama|Horror|Thriller         ...            \n",
       "5041                               Comedy|Drama|Romance         ...            \n",
       "5042                                        Documentary         ...            \n",
       "\n",
       "     num_user_for_reviews  language      country  content_rating       budget  \\\n",
       "0                  3054.0   English          USA           PG-13  237000000.0   \n",
       "1                  1238.0   English          USA           PG-13  300000000.0   \n",
       "2                   994.0   English           UK           PG-13  245000000.0   \n",
       "3                  2701.0   English          USA           PG-13  250000000.0   \n",
       "4                     NaN       NaN          NaN             NaN          NaN   \n",
       "5                   738.0   English          USA           PG-13  263700000.0   \n",
       "6                  1902.0   English          USA           PG-13  258000000.0   \n",
       "7                   387.0   English          USA              PG  260000000.0   \n",
       "8                  1117.0   English          USA           PG-13  250000000.0   \n",
       "9                   973.0   English           UK              PG  250000000.0   \n",
       "10                 3018.0   English          USA           PG-13  250000000.0   \n",
       "11                 2367.0   English          USA           PG-13  209000000.0   \n",
       "12                 1243.0   English           UK           PG-13  200000000.0   \n",
       "13                 1832.0   English          USA           PG-13  225000000.0   \n",
       "14                  711.0   English          USA           PG-13  215000000.0   \n",
       "15                 2536.0   English          USA           PG-13  225000000.0   \n",
       "16                  438.0   English          USA              PG  225000000.0   \n",
       "17                 1722.0   English          USA           PG-13  220000000.0   \n",
       "18                  484.0   English          USA           PG-13  250000000.0   \n",
       "19                  341.0   English          USA           PG-13  225000000.0   \n",
       "20                  802.0   English  New Zealand           PG-13  250000000.0   \n",
       "21                 1225.0   English          USA           PG-13  230000000.0   \n",
       "22                  546.0   English          USA           PG-13  200000000.0   \n",
       "23                  951.0   English          USA           PG-13  225000000.0   \n",
       "24                  666.0   English          USA           PG-13  180000000.0   \n",
       "25                 2618.0   English  New Zealand           PG-13  207000000.0   \n",
       "26                 2528.0   English          USA           PG-13  200000000.0   \n",
       "27                 1022.0   English          USA           PG-13  250000000.0   \n",
       "28                  751.0   English          USA           PG-13  209000000.0   \n",
       "29                 1290.0   English          USA           PG-13  150000000.0   \n",
       "...                   ...       ...          ...             ...          ...   \n",
       "5013                 21.0   English          USA             NaN      24000.0   \n",
       "5014                129.0   English       Canada               R          NaN   \n",
       "5015                 80.0   English          USA               R      23000.0   \n",
       "5016                  2.0   English          USA             NaN      25000.0   \n",
       "5017                  3.0   English          USA             NaN      22000.0   \n",
       "5018                 49.0   English          USA             NaN      20000.0   \n",
       "5019                 33.0   English          USA               R          NaN   \n",
       "5020                  8.0   English          USA             NaN      17350.0   \n",
       "5021                 71.0   English          USA               R      15000.0   \n",
       "5022                  1.0   Swahili        Kenya             NaN      15000.0   \n",
       "5023                  8.0   English          USA             NaN      15000.0   \n",
       "5024                 35.0   English          USA         Unrated      20000.0   \n",
       "5025                183.0   English          USA           NC-17      10000.0   \n",
       "5026                 39.0    French       France               R       4500.0   \n",
       "5027                 26.0   Persian         Iran       Not Rated      10000.0   \n",
       "5028                  1.0   English      Ireland             NaN      10000.0   \n",
       "5029                 50.0  Japanese        Japan             NaN    1000000.0   \n",
       "5030                  3.0   English          USA             NaN          NaN   \n",
       "5031                  8.0   English          USA             NaN     200000.0   \n",
       "5032                 14.0   English          USA             NaN          NaN   \n",
       "5033                371.0   English          USA           PG-13       7000.0   \n",
       "5034                 35.0   English  Philippines       Not Rated       7000.0   \n",
       "5035                130.0   Spanish          USA               R       7000.0   \n",
       "5036                  1.0   English          USA           PG-13       3250.0   \n",
       "5037                 14.0   English          USA       Not Rated       9000.0   \n",
       "5038                  6.0   English       Canada             NaN          NaN   \n",
       "5039                359.0   English          USA           TV-14          NaN   \n",
       "5040                  3.0   English          USA             NaN       1400.0   \n",
       "5041                  9.0   English          USA           PG-13          NaN   \n",
       "5042                 84.0   English          USA              PG       1100.0   \n",
       "\n",
       "      title_year actor_2_facebook_likes imdb_score  aspect_ratio  \\\n",
       "0         2009.0                  936.0        7.9          1.78   \n",
       "1         2007.0                 5000.0        7.1          2.35   \n",
       "2         2015.0                  393.0        6.8          2.35   \n",
       "3         2012.0                23000.0        8.5          2.35   \n",
       "4            NaN                   12.0        7.1           NaN   \n",
       "5         2012.0                  632.0        6.6          2.35   \n",
       "6         2007.0                11000.0        6.2          2.35   \n",
       "7         2010.0                  553.0        7.8          1.85   \n",
       "8         2015.0                21000.0        7.5          2.35   \n",
       "9         2009.0                11000.0        7.5          2.35   \n",
       "10        2016.0                 4000.0        6.9          2.35   \n",
       "11        2006.0                10000.0        6.1          2.35   \n",
       "12        2008.0                  412.0        6.7          2.35   \n",
       "13        2006.0                 5000.0        7.3          2.35   \n",
       "14        2013.0                 2000.0        6.5          2.35   \n",
       "15        2013.0                 3000.0        7.2          2.35   \n",
       "16        2008.0                  216.0        6.6          2.35   \n",
       "17        2012.0                21000.0        8.1          1.85   \n",
       "18        2011.0                11000.0        6.7          2.35   \n",
       "19        2012.0                  816.0        6.8          1.85   \n",
       "20        2014.0                  972.0        7.5          2.35   \n",
       "21        2012.0                10000.0        7.0          2.35   \n",
       "22        2010.0                  882.0        6.7          2.35   \n",
       "23        2013.0                  972.0        7.9          2.35   \n",
       "24        2007.0                 6000.0        6.1          2.35   \n",
       "25        2005.0                  919.0        7.2          2.35   \n",
       "26        1997.0                14000.0        7.7          2.35   \n",
       "27        2016.0                19000.0        8.2          2.35   \n",
       "28        2012.0                10000.0        5.9          2.35   \n",
       "29        2015.0                 2000.0        7.0          2.00   \n",
       "...          ...                    ...        ...           ...   \n",
       "5013      2002.0                   46.0        7.0          1.78   \n",
       "5014      2009.0                  918.0        6.3          2.35   \n",
       "5015      1991.0                    0.0        7.1          1.37   \n",
       "5016      2015.0                   25.0        4.8           NaN   \n",
       "5017      2013.0                  184.0        3.3          1.78   \n",
       "5018      2003.0                   49.0        6.9          1.85   \n",
       "5019      2015.0                  512.0        4.6          1.85   \n",
       "5020      2011.0                   19.0        3.0           NaN   \n",
       "5021      2005.0                  224.0        6.6           NaN   \n",
       "5022      2014.0                   19.0        7.4           NaN   \n",
       "5023      2009.0                  212.0        6.2          2.35   \n",
       "5024      2011.0                   91.0        4.0          2.35   \n",
       "5025      1972.0                  143.0        6.1          1.37   \n",
       "5026      2004.0                  133.0        6.9          2.35   \n",
       "5027      2000.0                    0.0        7.5          1.85   \n",
       "5028      2007.0                    5.0        6.7          1.33   \n",
       "5029      1997.0                   13.0        7.4          1.85   \n",
       "5030      2004.0                   20.0        6.1           NaN   \n",
       "5031      2012.0                   98.0        5.4         16.00   \n",
       "5032      1995.0                  194.0        6.4           NaN   \n",
       "5033      2004.0                   45.0        7.0          1.85   \n",
       "5034      2005.0                    0.0        6.3           NaN   \n",
       "5035      1992.0                   20.0        6.9          1.37   \n",
       "5036      2005.0                   44.0        7.8           NaN   \n",
       "5037      2011.0                  205.0        6.4           NaN   \n",
       "5038      2013.0                  470.0        7.7           NaN   \n",
       "5039         NaN                  593.0        7.5         16.00   \n",
       "5040      2013.0                    0.0        6.3           NaN   \n",
       "5041      2012.0                  719.0        6.3          2.35   \n",
       "5042      2004.0                   23.0        6.6          1.85   \n",
       "\n",
       "     movie_facebook_likes  \n",
       "0                   33000  \n",
       "1                       0  \n",
       "2                   85000  \n",
       "3                  164000  \n",
       "4                       0  \n",
       "5                   24000  \n",
       "6                       0  \n",
       "7                   29000  \n",
       "8                  118000  \n",
       "9                   10000  \n",
       "10                 197000  \n",
       "11                      0  \n",
       "12                      0  \n",
       "13                   5000  \n",
       "14                  48000  \n",
       "15                 118000  \n",
       "16                      0  \n",
       "17                 123000  \n",
       "18                  58000  \n",
       "19                  40000  \n",
       "20                  65000  \n",
       "21                  56000  \n",
       "22                  17000  \n",
       "23                  83000  \n",
       "24                      0  \n",
       "25                      0  \n",
       "26                  26000  \n",
       "27                  72000  \n",
       "28                  44000  \n",
       "29                 150000  \n",
       "...                   ...  \n",
       "5013                   61  \n",
       "5014                    0  \n",
       "5015                 2000  \n",
       "5016                   33  \n",
       "5017                  200  \n",
       "5018                  725  \n",
       "5019                    0  \n",
       "5020                   33  \n",
       "5021                  297  \n",
       "5022                   45  \n",
       "5023                  324  \n",
       "5024                  835  \n",
       "5025                    0  \n",
       "5026                  171  \n",
       "5027                  697  \n",
       "5028                  105  \n",
       "5029                  817  \n",
       "5030                   22  \n",
       "5031                  424  \n",
       "5032                   20  \n",
       "5033                19000  \n",
       "5034                   74  \n",
       "5035                    0  \n",
       "5036                    4  \n",
       "5037                  413  \n",
       "5038                   84  \n",
       "5039                32000  \n",
       "5040                   16  \n",
       "5041                  660  \n",
       "5042                  456  \n",
       "\n",
       "[5043 rows x 28 columns]>"
      ]
     },
     "execution_count": 3,
     "metadata": {},
     "output_type": "execute_result"
    }
   ],
   "source": [
    "IMDb_dataset.info"
   ]
  },
  {
   "cell_type": "markdown",
   "metadata": {},
   "source": [
    "Displaying the number of instances and features before modification"
   ]
  },
  {
   "cell_type": "code",
   "execution_count": 4,
   "metadata": {
    "collapsed": false
   },
   "outputs": [
    {
     "data": {
      "text/plain": [
       "(5043, 28)"
      ]
     },
     "execution_count": 4,
     "metadata": {},
     "output_type": "execute_result"
    }
   ],
   "source": [
    "IMDb_dataset.shape"
   ]
  },
  {
   "cell_type": "markdown",
   "metadata": {},
   "source": [
    "Deleting the unnecessary features"
   ]
  },
  {
   "cell_type": "code",
   "execution_count": 5,
   "metadata": {
    "collapsed": false
   },
   "outputs": [],
   "source": [
    "del IMDb_dataset['director_name']\n",
    "del IMDb_dataset['aspect_ratio']\n",
    "del IMDb_dataset['movie_imdb_link']\n",
    "del IMDb_dataset['title_year']\n",
    "del IMDb_dataset['actor_1_name']\n",
    "del IMDb_dataset['actor_2_name']\n",
    "del IMDb_dataset['actor_3_name']\n",
    "del IMDb_dataset['gross']\n",
    "del IMDb_dataset['plot_keywords']\n",
    "del IMDb_dataset['movie_title']\n",
    "del IMDb_dataset['cast_total_facebook_likes']\n",
    "del IMDb_dataset['budget']\n",
    "del IMDb_dataset['facenumber_in_poster']"
   ]
  },
  {
   "cell_type": "markdown",
   "metadata": {},
   "source": [
    "Displaying features and features' type before modification"
   ]
  },
  {
   "cell_type": "code",
   "execution_count": 6,
   "metadata": {
    "collapsed": false
   },
   "outputs": [
    {
     "name": "stdout",
     "output_type": "stream",
     "text": [
      "<class 'pandas.core.frame.DataFrame'>\n",
      "RangeIndex: 5043 entries, 0 to 5042\n",
      "Data columns (total 15 columns):\n",
      "color                      5024 non-null object\n",
      "num_critic_for_reviews     4993 non-null float64\n",
      "duration                   5028 non-null float64\n",
      "director_facebook_likes    4939 non-null float64\n",
      "actor_3_facebook_likes     5020 non-null float64\n",
      "actor_1_facebook_likes     5036 non-null float64\n",
      "genres                     5043 non-null object\n",
      "num_voted_users            5043 non-null int64\n",
      "num_user_for_reviews       5022 non-null float64\n",
      "language                   5031 non-null object\n",
      "country                    5038 non-null object\n",
      "content_rating             4740 non-null object\n",
      "actor_2_facebook_likes     5030 non-null float64\n",
      "imdb_score                 5043 non-null float64\n",
      "movie_facebook_likes       5043 non-null int64\n",
      "dtypes: float64(8), int64(2), object(5)\n",
      "memory usage: 591.1+ KB\n"
     ]
    }
   ],
   "source": [
    "IMDb_dataset.info()"
   ]
  },
  {
   "cell_type": "markdown",
   "metadata": {},
   "source": [
    "Filling the missing values for all the features with their respective mean"
   ]
  },
  {
   "cell_type": "code",
   "execution_count": 7,
   "metadata": {
    "collapsed": true
   },
   "outputs": [],
   "source": [
    "for i in IMDb_dataset:\n",
    "    if(IMDb_dataset[i].dtypes != object):\n",
    "        IMDb_dataset[i].fillna(IMDb_dataset[i].mean(), inplace = True)"
   ]
  },
  {
   "cell_type": "markdown",
   "metadata": {},
   "source": [
    "Binarizing the categorical feature 'genres'"
   ]
  },
  {
   "cell_type": "code",
   "execution_count": 8,
   "metadata": {
    "collapsed": false
   },
   "outputs": [],
   "source": [
    "Adventure = []\n",
    "Action = []\n",
    "Drama = []\n",
    "Fantasy = []\n",
    "Romance = []\n",
    "Comedy = []\n",
    "Family = []\n",
    "Musical = []\n",
    "History = []\n",
    "War = []\n",
    "Documentary = []\n",
    "Sport = []\n",
    "Crime = []\n",
    "Horror = []\n",
    "Mystery = []\n",
    "Sci_Fi = []\n",
    "Thriller = []\n",
    "Animation = []\n",
    "Biography = []\n",
    "for i in IMDb_dataset['genres']:\n",
    "    if 'Adventure' in i:\n",
    "        Adventure.append(1)\n",
    "    else:\n",
    "        Adventure.append(0)\n",
    "    if 'Action' in i:\n",
    "        Action.append(1)\n",
    "    else:\n",
    "        Action.append(0)\n",
    "    if 'Drama' in i:\n",
    "        Drama.append(1)\n",
    "    else:\n",
    "        Drama.append(0)\n",
    "    if 'Fantasy' in i:\n",
    "        Fantasy.append(1)\n",
    "    else:\n",
    "        Fantasy.append(0)\n",
    "    if 'Romance' in i:\n",
    "        Romance.append(1)\n",
    "    else:\n",
    "        Romance.append(0)\n",
    "    if 'Comedy' in i:\n",
    "        Comedy.append(1)\n",
    "    else:\n",
    "        Comedy.append(0)\n",
    "    if 'Family' in i:\n",
    "        Family.append(1)\n",
    "    else:\n",
    "        Family.append(0)\n",
    "    if 'Musical' in i:\n",
    "        Musical.append(1)\n",
    "    else:\n",
    "        Musical.append(0)\n",
    "    if 'History' in i:\n",
    "        History.append(1)\n",
    "    else:\n",
    "        History.append(0)\n",
    "    if 'War' in i:\n",
    "        War.append(1)\n",
    "    else:\n",
    "        War.append(0)\n",
    "    if 'Documentary' in i:\n",
    "        Documentary.append(1)\n",
    "    else:\n",
    "        Documentary.append(0)\n",
    "    if 'Sport' in i:\n",
    "        Sport.append(1)\n",
    "    else:\n",
    "        Sport.append(0)\n",
    "    if 'Crime' in i:\n",
    "        Crime.append(1)\n",
    "    else:\n",
    "        Crime.append(0)\n",
    "    if 'Horror' in i:\n",
    "        Horror.append(1)\n",
    "    else:\n",
    "        Horror.append(0)\n",
    "    if 'Mystery' in i:\n",
    "        Mystery.append(1)\n",
    "    else:\n",
    "        Mystery.append(0)\n",
    "    if 'Sci-Fi' in i:\n",
    "        Sci_Fi.append(1)\n",
    "    else:\n",
    "        Sci_Fi.append(0)\n",
    "    if 'Thriller' in i:\n",
    "        Thriller.append(1)\n",
    "    else:\n",
    "        Thriller.append(0)\n",
    "    if 'Animation' in i:\n",
    "        Animation.append(1)\n",
    "    else:\n",
    "        Animation.append(0)\n",
    "    if 'Biography' in i:\n",
    "        Biography.append(1)\n",
    "    else:\n",
    "        Biography.append(0)    "
   ]
  },
  {
   "cell_type": "markdown",
   "metadata": {},
   "source": [
    "Appending the following features to the data set"
   ]
  },
  {
   "cell_type": "code",
   "execution_count": 9,
   "metadata": {
    "collapsed": false
   },
   "outputs": [],
   "source": [
    "IMDb_dataset['Adventure']=Adventure\n",
    "IMDb_dataset['Action']=Action\n",
    "IMDb_dataset['Drama']= Drama\n",
    "IMDb_dataset['Fantasy']= Fantasy\n",
    "IMDb_dataset['Romance']=Romance\n",
    "IMDb_dataset['Comedy']=Comedy\n",
    "IMDb_dataset['Family']=Family\n",
    "IMDb_dataset['Musical']=Musical\n",
    "IMDb_dataset['History']=History\n",
    "IMDb_dataset['War']=War\n",
    "IMDb_dataset['Documentary']=Documentary\n",
    "IMDb_dataset['Sport']=Sport\n",
    "IMDb_dataset['Crime']=Crime\n",
    "IMDb_dataset['Horror']=Horror\n",
    "IMDb_dataset['Mystery']=Mystery\n",
    "IMDb_dataset['Sci_Fi']=Sci_Fi\n",
    "IMDb_dataset['Thriller']=Thriller\n",
    "IMDb_dataset['Animation']=Animation\n",
    "IMDb_dataset['Biography']=Biography"
   ]
  },
  {
   "cell_type": "markdown",
   "metadata": {},
   "source": [
    "Filling the missing values for the feature 'content_rating' with its respective mode value"
   ]
  },
  {
   "cell_type": "code",
   "execution_count": 10,
   "metadata": {
    "collapsed": false
   },
   "outputs": [],
   "source": [
    "IMDb_dataset['content_rating'].fillna('R',inplace=True)"
   ]
  },
  {
   "cell_type": "markdown",
   "metadata": {},
   "source": [
    "Deleting instances containing null values for the following categorical features  "
   ]
  },
  {
   "cell_type": "code",
   "execution_count": 11,
   "metadata": {
    "collapsed": true
   },
   "outputs": [],
   "source": [
    "IMDb_dataset = IMDb_dataset[IMDb_dataset.country.notnull()]\n",
    "IMDb_dataset = IMDb_dataset[IMDb_dataset.language.notnull()]\n",
    "IMDb_dataset = IMDb_dataset[IMDb_dataset.color.notnull()]"
   ]
  },
  {
   "cell_type": "markdown",
   "metadata": {},
   "source": [
    "Deleting 'genres' feature"
   ]
  },
  {
   "cell_type": "code",
   "execution_count": 12,
   "metadata": {
    "collapsed": true
   },
   "outputs": [],
   "source": [
    "del IMDb_dataset['genres']"
   ]
  },
  {
   "cell_type": "markdown",
   "metadata": {},
   "source": [
    "Displaying the number instances and features after modification"
   ]
  },
  {
   "cell_type": "code",
   "execution_count": 13,
   "metadata": {
    "collapsed": false
   },
   "outputs": [
    {
     "data": {
      "text/plain": [
       "(5015, 33)"
      ]
     },
     "execution_count": 13,
     "metadata": {},
     "output_type": "execute_result"
    }
   ],
   "source": [
    "IMDb_dataset.shape"
   ]
  },
  {
   "cell_type": "markdown",
   "metadata": {},
   "source": [
    "Displaying features and features' type after modification"
   ]
  },
  {
   "cell_type": "code",
   "execution_count": 14,
   "metadata": {
    "collapsed": false,
    "scrolled": true
   },
   "outputs": [
    {
     "name": "stdout",
     "output_type": "stream",
     "text": [
      "<class 'pandas.core.frame.DataFrame'>\n",
      "Int64Index: 5015 entries, 0 to 5042\n",
      "Data columns (total 33 columns):\n",
      "color                      5015 non-null object\n",
      "num_critic_for_reviews     5015 non-null float64\n",
      "duration                   5015 non-null float64\n",
      "director_facebook_likes    5015 non-null float64\n",
      "actor_3_facebook_likes     5015 non-null float64\n",
      "actor_1_facebook_likes     5015 non-null float64\n",
      "num_voted_users            5015 non-null int64\n",
      "num_user_for_reviews       5015 non-null float64\n",
      "language                   5015 non-null object\n",
      "country                    5015 non-null object\n",
      "content_rating             5015 non-null object\n",
      "actor_2_facebook_likes     5015 non-null float64\n",
      "imdb_score                 5015 non-null float64\n",
      "movie_facebook_likes       5015 non-null int64\n",
      "Adventure                  5015 non-null int64\n",
      "Action                     5015 non-null int64\n",
      "Drama                      5015 non-null int64\n",
      "Fantasy                    5015 non-null int64\n",
      "Romance                    5015 non-null int64\n",
      "Comedy                     5015 non-null int64\n",
      "Family                     5015 non-null int64\n",
      "Musical                    5015 non-null int64\n",
      "History                    5015 non-null int64\n",
      "War                        5015 non-null int64\n",
      "Documentary                5015 non-null int64\n",
      "Sport                      5015 non-null int64\n",
      "Crime                      5015 non-null int64\n",
      "Horror                     5015 non-null int64\n",
      "Mystery                    5015 non-null int64\n",
      "Sci_Fi                     5015 non-null int64\n",
      "Thriller                   5015 non-null int64\n",
      "Animation                  5015 non-null int64\n",
      "Biography                  5015 non-null int64\n",
      "dtypes: float64(8), int64(21), object(4)\n",
      "memory usage: 1.3+ MB\n"
     ]
    }
   ],
   "source": [
    "IMDb_dataset.info()"
   ]
  },
  {
   "cell_type": "markdown",
   "metadata": {},
   "source": [
    "Displaying histogram for the Target Variable i.e. 'imdb_score', which is numerical"
   ]
  },
  {
   "cell_type": "code",
   "execution_count": 15,
   "metadata": {
    "collapsed": false
   },
   "outputs": [
    {
     "data": {
      "image/png": "[encoded data removed]",
      "text/plain": [
       "<matplotlib.figure.Figure at 0x11567be48>"
      ]
     },
     "metadata": {},
     "output_type": "display_data"
    }
   ],
   "source": [
    "plt.hist(IMDb_dataset.imdb_score)\n",
    "plt.xlabel('imdb_score')\n",
    "plt.ylabel('Instances')\n",
    "plt.show()"
   ]
  },
  {
   "cell_type": "markdown",
   "metadata": {},
   "source": [
    "Calculating mean and variance for the Target Variable i.e. 'imdb_score', which is numerical"
   ]
  },
  {
   "cell_type": "code",
   "execution_count": 16,
   "metadata": {
    "collapsed": false
   },
   "outputs": [
    {
     "name": "stdout",
     "output_type": "stream",
     "text": [
      "mean: 6.443051\n",
      "var: 1.261208\n"
     ]
    }
   ],
   "source": [
    "mean=IMDb_dataset['imdb_score'].mean()\n",
    "var=IMDb_dataset['imdb_score'].var()\n",
    "print('mean: %f'%mean)\n",
    "print('var: %f'%var)"
   ]
  },
  {
   "cell_type": "markdown",
   "metadata": {},
   "source": [
    "Displaying box plot for the Target Variable i.e. 'imdb_score', which is numerical"
   ]
  },
  {
   "cell_type": "code",
   "execution_count": 17,
   "metadata": {
    "collapsed": false
   },
   "outputs": [
    {
     "data": {
      "image/png": "[encoded data removed]",
      "text/plain": [
       "<matplotlib.figure.Figure at 0x115595cf8>"
      ]
     },
     "metadata": {},
     "output_type": "display_data"
    }
   ],
   "source": [
    "plt.boxplot(IMDb_dataset['imdb_score'])\n",
    "plt.ylabel('IMDb_score')\n",
    "plt.show()"
   ]
  },
  {
   "cell_type": "markdown",
   "metadata": {},
   "source": [
    "Displaying bar plot for categorial feature 'color'"
   ]
  },
  {
   "cell_type": "code",
   "execution_count": 18,
   "metadata": {
    "collapsed": false
   },
   "outputs": [
    {
     "data": {
      "image/png": "[encoded data removed]",
      "text/plain": [
       "<matplotlib.figure.Figure at 0x1155347f0>"
      ]
     },
     "metadata": {},
     "output_type": "display_data"
    }
   ],
   "source": [
    "IMDb_dataset.color.value_counts().plot(kind='bar')\n",
    "plt.xlabel('color')\n",
    "plt.ylabel('Instances')\n",
    "plt.show()"
   ]
  },
  {
   "cell_type": "markdown",
   "metadata": {},
   "source": [
    "Displaying bar plot for categorial feature 'language'"
   ]
  },
  {
   "cell_type": "code",
   "execution_count": 19,
   "metadata": {
    "collapsed": false
   },
   "outputs": [
    {
     "data": {
      "image/png": "[encoded data removed]",
      "text/plain": [
       "<matplotlib.figure.Figure at 0x115575278>"
      ]
     },
     "metadata": {},
     "output_type": "display_data"
    }
   ],
   "source": [
    "IMDb_dataset.language.value_counts().plot(kind='bar')\n",
    "plt.xlabel('language')\n",
    "plt.ylabel('Instances')\n",
    "plt.show()"
   ]
  },
  {
   "cell_type": "markdown",
   "metadata": {},
   "source": [
    "Displaying bar plot for categorial feature 'country'"
   ]
  },
  {
   "cell_type": "code",
   "execution_count": 20,
   "metadata": {
    "collapsed": false
   },
   "outputs": [
    {
     "data": {
      "image/png": "[encoded data removed]",
      "text/plain": [
       "<matplotlib.figure.Figure at 0x1156262b0>"
      ]
     },
     "metadata": {},
     "output_type": "display_data"
    }
   ],
   "source": [
    "IMDb_dataset.country.value_counts().plot(kind='bar')\n",
    "plt.xlabel('country')\n",
    "plt.ylabel('Instances')\n",
    "plt.show()"
   ]
  },
  {
   "cell_type": "markdown",
   "metadata": {},
   "source": [
    "Displaying bar plot for categorial feature 'content_rating'"
   ]
  },
  {
   "cell_type": "code",
   "execution_count": 21,
   "metadata": {
    "collapsed": false
   },
   "outputs": [
    {
     "data": {
      "image/png": "[encoded data removed]",
      "text/plain": [
       "<matplotlib.figure.Figure at 0x117ee6828>"
      ]
     },
     "metadata": {},
     "output_type": "display_data"
    }
   ],
   "source": [
    "IMDb_dataset.content_rating.value_counts().plot(kind='bar')\n",
    "plt.xlabel('content_rating')\n",
    "plt.ylabel('Instances')\n",
    "plt.show()"
   ]
  },
  {
   "cell_type": "markdown",
   "metadata": {},
   "source": [
    "Displaying histogram for numerical feature 'num_critic_for_reviews'"
   ]
  },
  {
   "cell_type": "code",
   "execution_count": 22,
   "metadata": {
    "collapsed": false
   },
   "outputs": [
    {
     "data": {
      "image/png": "[encoded data removed]",
      "text/plain": [
       "<matplotlib.figure.Figure at 0x1152710f0>"
      ]
     },
     "metadata": {},
     "output_type": "display_data"
    }
   ],
   "source": [
    "plt.hist(IMDb_dataset.num_critic_for_reviews)\n",
    "plt.xlabel('num_critic_for_reviews')\n",
    "plt.ylabel('Instances')\n",
    "plt.show()"
   ]
  },
  {
   "cell_type": "markdown",
   "metadata": {},
   "source": [
    "Displaying statistics for numerical feature 'num_critic_for_reviews'"
   ]
  },
  {
   "cell_type": "code",
   "execution_count": 23,
   "metadata": {
    "collapsed": false
   },
   "outputs": [
    {
     "name": "stdout",
     "output_type": "stream",
     "text": [
      "mean: 140.716637\n",
      "var: 14658.202869\n",
      "std: 121.071065\n"
     ]
    }
   ],
   "source": [
    "mean=IMDb_dataset['num_critic_for_reviews'].mean()\n",
    "var=IMDb_dataset['num_critic_for_reviews'].var()\n",
    "std=IMDb_dataset['num_critic_for_reviews'].std()\n",
    "print('mean: %f'%mean)\n",
    "print('var: %f'%var)\n",
    "print('std: %f'%std)"
   ]
  },
  {
   "cell_type": "markdown",
   "metadata": {},
   "source": [
    "Displaying histogram for numerical feature 'duration'"
   ]
  },
  {
   "cell_type": "code",
   "execution_count": 24,
   "metadata": {
    "collapsed": false
   },
   "outputs": [
    {
     "data": {
      "image/png": "[encoded data removed]",
      "text/plain": [
       "<matplotlib.figure.Figure at 0x114b1ca58>"
      ]
     },
     "metadata": {},
     "output_type": "display_data"
    }
   ],
   "source": [
    "plt.hist(IMDb_dataset.duration)\n",
    "plt.xlabel('duration')\n",
    "plt.ylabel('Instances')\n",
    "plt.show()"
   ]
  },
  {
   "cell_type": "markdown",
   "metadata": {},
   "source": [
    "Displaying statistics for numerical feature 'duration'"
   ]
  },
  {
   "cell_type": "code",
   "execution_count": 25,
   "metadata": {
    "collapsed": false
   },
   "outputs": [
    {
     "name": "stdout",
     "output_type": "stream",
     "text": [
      "mean: 107.281120\n",
      "var: 630.823542\n",
      "std: 25.116201\n"
     ]
    }
   ],
   "source": [
    "mean=IMDb_dataset['duration'].mean()\n",
    "var=IMDb_dataset['duration'].var()\n",
    "std=IMDb_dataset['duration'].std()\n",
    "print('mean: %f'%mean)\n",
    "print('var: %f'%var)\n",
    "print('std: %f'%std)"
   ]
  },
  {
   "cell_type": "markdown",
   "metadata": {},
   "source": [
    "Displaying histogram for numerical feature 'director_facebook_likes'"
   ]
  },
  {
   "cell_type": "code",
   "execution_count": 26,
   "metadata": {
    "collapsed": false
   },
   "outputs": [
    {
     "data": {
      "image/png": "[encoded data removed]",
      "text/plain": [
       "<matplotlib.figure.Figure at 0x115664b70>"
      ]
     },
     "metadata": {},
     "output_type": "display_data"
    }
   ],
   "source": [
    "plt.hist(IMDb_dataset.director_facebook_likes)\n",
    "plt.xlabel('director_facebook_likes')\n",
    "plt.ylabel('Instances')\n",
    "plt.show()"
   ]
  },
  {
   "cell_type": "markdown",
   "metadata": {},
   "source": [
    "Displaying statistics for numerical feature 'director_facebook_likes'"
   ]
  },
  {
   "cell_type": "code",
   "execution_count": 27,
   "metadata": {
    "collapsed": false
   },
   "outputs": [
    {
     "name": "stdout",
     "output_type": "stream",
     "text": [
      "mean: 689.367083\n",
      "var: 7793034.295299\n",
      "std: 2791.600669\n"
     ]
    }
   ],
   "source": [
    "mean=IMDb_dataset['director_facebook_likes'].mean()\n",
    "var=IMDb_dataset['director_facebook_likes'].var()\n",
    "std=IMDb_dataset['director_facebook_likes'].std()\n",
    "print('mean: %f'%mean)\n",
    "print('var: %f'%var)\n",
    "print('std: %f'%std)"
   ]
  },
  {
   "cell_type": "markdown",
   "metadata": {},
   "source": [
    "Displaying histogram for numerical feature 'actor_3_facebook_likes'"
   ]
  },
  {
   "cell_type": "code",
   "execution_count": 28,
   "metadata": {
    "collapsed": false
   },
   "outputs": [
    {
     "data": {
      "image/png": "[encoded data removed]",
      "text/plain": [
       "<matplotlib.figure.Figure at 0x1155bd5f8>"
      ]
     },
     "metadata": {},
     "output_type": "display_data"
    }
   ],
   "source": [
    "plt.hist(IMDb_dataset.actor_3_facebook_likes)\n",
    "plt.xlabel('actor_3_facebook_likes')\n",
    "plt.ylabel('Instances')\n",
    "plt.show()"
   ]
  },
  {
   "cell_type": "markdown",
   "metadata": {},
   "source": [
    "Displaying statistics for numerical feature 'actor_3_facebook_likes'"
   ]
  },
  {
   "cell_type": "code",
   "execution_count": 29,
   "metadata": {
    "collapsed": false
   },
   "outputs": [
    {
     "name": "stdout",
     "output_type": "stream",
     "text": [
      "mean: 646.683391\n",
      "var: 2774181.398179\n",
      "std: 1665.587403\n"
     ]
    }
   ],
   "source": [
    "mean=IMDb_dataset['actor_3_facebook_likes'].mean()\n",
    "var=IMDb_dataset['actor_3_facebook_likes'].var()\n",
    "std=IMDb_dataset['actor_3_facebook_likes'].std()\n",
    "print('mean: %f'%mean)\n",
    "print('var: %f'%var)\n",
    "print('std: %f'%std)"
   ]
  },
  {
   "cell_type": "markdown",
   "metadata": {},
   "source": [
    "Displaying histogram for numerical feature 'actor_1_facebook_likes'"
   ]
  },
  {
   "cell_type": "code",
   "execution_count": 30,
   "metadata": {
    "collapsed": false
   },
   "outputs": [
    {
     "data": {
      "image/png": "[encoded data removed]",
      "text/plain": [
       "<matplotlib.figure.Figure at 0x1154fd5c0>"
      ]
     },
     "metadata": {},
     "output_type": "display_data"
    }
   ],
   "source": [
    "plt.hist(IMDb_dataset.actor_1_facebook_likes)\n",
    "plt.xlabel('actor_1_facebook_likes')\n",
    "plt.ylabel('Instances')\n",
    "plt.show()"
   ]
  },
  {
   "cell_type": "markdown",
   "metadata": {},
   "source": [
    "Displaying statistics for numerical feature 'actor_1_facebook_likes'"
   ]
  },
  {
   "cell_type": "code",
   "execution_count": 31,
   "metadata": {
    "collapsed": false
   },
   "outputs": [
    {
     "name": "stdout",
     "output_type": "stream",
     "text": [
      "mean: 6537.600265\n",
      "var: 213557514.079412\n",
      "std: 14613.607155\n"
     ]
    }
   ],
   "source": [
    "mean=IMDb_dataset['actor_1_facebook_likes'].mean()\n",
    "var=IMDb_dataset['actor_1_facebook_likes'].var()\n",
    "std=IMDb_dataset['actor_1_facebook_likes'].std()\n",
    "print('mean: %f'%mean)\n",
    "print('var: %f'%var)\n",
    "print('std: %f'%std)"
   ]
  },
  {
   "cell_type": "markdown",
   "metadata": {},
   "source": [
    "Displaying histogram for numerical feature 'num_voted_users'"
   ]
  },
  {
   "cell_type": "code",
   "execution_count": 32,
   "metadata": {
    "collapsed": false
   },
   "outputs": [
    {
     "data": {
      "image/png": "[encoded data removed]",
      "text/plain": [
       "<matplotlib.figure.Figure at 0x118b0a748>"
      ]
     },
     "metadata": {},
     "output_type": "display_data"
    }
   ],
   "source": [
    "plt.hist(IMDb_dataset.num_voted_users)\n",
    "plt.xlabel('num_voted_users')\n",
    "plt.ylabel('Instances')\n",
    "plt.show()"
   ]
  },
  {
   "cell_type": "markdown",
   "metadata": {},
   "source": [
    "Displaying statistics for numerical feature 'num_voted_users'"
   ]
  },
  {
   "cell_type": "code",
   "execution_count": 33,
   "metadata": {
    "collapsed": false
   },
   "outputs": [
    {
     "name": "stdout",
     "output_type": "stream",
     "text": [
      "mean: 84051.547956\n",
      "var: 19248543288.008369\n",
      "std: 138739.119530\n"
     ]
    }
   ],
   "source": [
    "mean=IMDb_dataset['num_voted_users'].mean()\n",
    "var=IMDb_dataset['num_voted_users'].var()\n",
    "std=IMDb_dataset['num_voted_users'].std()\n",
    "print('mean: %f'%mean)\n",
    "print('var: %f'%var)\n",
    "print('std: %f'%std)"
   ]
  },
  {
   "cell_type": "markdown",
   "metadata": {},
   "source": [
    "Displaying histogram for numerical feature 'num_user_for_reviews'"
   ]
  },
  {
   "cell_type": "code",
   "execution_count": 34,
   "metadata": {
    "collapsed": false
   },
   "outputs": [
    {
     "data": {
      "image/png": "[encoded data removed]",
      "text/plain": [
       "<matplotlib.figure.Figure at 0x1154900f0>"
      ]
     },
     "metadata": {},
     "output_type": "display_data"
    }
   ],
   "source": [
    "plt.hist(IMDb_dataset.num_user_for_reviews)\n",
    "plt.xlabel('num_user_for_reviews')\n",
    "plt.ylabel('Instances')\n",
    "plt.show()"
   ]
  },
  {
   "cell_type": "markdown",
   "metadata": {},
   "source": [
    "Displaying statistics for numerical feature 'num_user_for_reviews'"
   ]
  },
  {
   "cell_type": "code",
   "execution_count": 35,
   "metadata": {
    "collapsed": false
   },
   "outputs": [
    {
     "name": "stdout",
     "output_type": "stream",
     "text": [
      "mean: 273.876346\n",
      "var: 142790.769548\n",
      "std: 377.876659\n"
     ]
    }
   ],
   "source": [
    "mean=IMDb_dataset['num_user_for_reviews'].mean()\n",
    "var=IMDb_dataset['num_user_for_reviews'].var()\n",
    "std=IMDb_dataset['num_user_for_reviews'].std()\n",
    "print('mean: %f'%mean)\n",
    "print('var: %f'%var)\n",
    "print('std: %f'%std)"
   ]
  },
  {
   "cell_type": "markdown",
   "metadata": {},
   "source": [
    "Displaying histogram for numerical feature 'actor_2_facebook_likes'"
   ]
  },
  {
   "cell_type": "code",
   "execution_count": 36,
   "metadata": {
    "collapsed": false
   },
   "outputs": [
    {
     "data": {
      "image/png": "[encoded data removed]",
      "text/plain": [
       "<matplotlib.figure.Figure at 0x1154fd780>"
      ]
     },
     "metadata": {},
     "output_type": "display_data"
    }
   ],
   "source": [
    "plt.hist(IMDb_dataset.actor_2_facebook_likes)\n",
    "plt.xlabel('actor_2_facebook_likes')\n",
    "plt.ylabel('Instances')\n",
    "plt.show()"
   ]
  },
  {
   "cell_type": "markdown",
   "metadata": {},
   "source": [
    "Displaying statistics for numerical feature 'actor_2_facebook_likes'"
   ]
  },
  {
   "cell_type": "code",
   "execution_count": 37,
   "metadata": {
    "collapsed": false
   },
   "outputs": [
    {
     "name": "stdout",
     "output_type": "stream",
     "text": [
      "mean: 1658.188445\n",
      "var: 16381470.569603\n",
      "std: 4047.402941\n"
     ]
    }
   ],
   "source": [
    "mean=IMDb_dataset['actor_2_facebook_likes'].mean()\n",
    "var=IMDb_dataset['actor_2_facebook_likes'].var()\n",
    "std=IMDb_dataset['actor_2_facebook_likes'].std()\n",
    "print('mean: %f'%mean)\n",
    "print('var: %f'%var)\n",
    "print('std: %f'%std)"
   ]
  },
  {
   "cell_type": "markdown",
   "metadata": {},
   "source": [
    "Displaying histogram for numerical feature 'movie_facebook_likes'"
   ]
  },
  {
   "cell_type": "code",
   "execution_count": 38,
   "metadata": {
    "collapsed": false
   },
   "outputs": [
    {
     "data": {
      "image/png": "[encoded data removed]",
      "text/plain": [
       "<matplotlib.figure.Figure at 0x11939ae48>"
      ]
     },
     "metadata": {},
     "output_type": "display_data"
    }
   ],
   "source": [
    "plt.hist(IMDb_dataset.movie_facebook_likes)\n",
    "plt.xlabel('movie_facebook_likes')\n",
    "plt.ylabel('Instances')\n",
    "plt.show()"
   ]
  },
  {
   "cell_type": "markdown",
   "metadata": {},
   "source": [
    "Displaying statistics for numerical feature 'movie_facebook_likes'"
   ]
  },
  {
   "cell_type": "code",
   "execution_count": 39,
   "metadata": {
    "collapsed": false
   },
   "outputs": [
    {
     "name": "stdout",
     "output_type": "stream",
     "text": [
      "mean: 7549.672981\n",
      "var: 374615402.369679\n",
      "std: 19354.983916\n"
     ]
    }
   ],
   "source": [
    "mean=IMDb_dataset['movie_facebook_likes'].mean()\n",
    "var=IMDb_dataset['movie_facebook_likes'].var()\n",
    "std=IMDb_dataset['movie_facebook_likes'].std()\n",
    "print('mean: %f'%mean)\n",
    "print('var: %f'%var)\n",
    "print('std: %f'%std)"
   ]
  },
  {
   "cell_type": "markdown",
   "metadata": {},
   "source": [
    "Displaying histogram for feature 'Adventure'"
   ]
  },
  {
   "cell_type": "code",
   "execution_count": 40,
   "metadata": {
    "collapsed": false
   },
   "outputs": [
    {
     "data": {
      "image/png": "[encoded data removed]",
      "text/plain": [
       "<matplotlib.figure.Figure at 0x1191874a8>"
      ]
     },
     "metadata": {},
     "output_type": "display_data"
    }
   ],
   "source": [
    "plt.hist(IMDb_dataset.Adventure)\n",
    "plt.xlabel('Adventure')\n",
    "plt.ylabel('Instances')\n",
    "plt.show()"
   ]
  },
  {
   "cell_type": "markdown",
   "metadata": {},
   "source": [
    "Displaying statistics for feature 'Adventure'"
   ]
  },
  {
   "cell_type": "code",
   "execution_count": 41,
   "metadata": {
    "collapsed": false
   },
   "outputs": [
    {
     "name": "stdout",
     "output_type": "stream",
     "text": [
      "mean: 0.183450\n",
      "var: 0.149826\n",
      "std: 0.387073\n"
     ]
    }
   ],
   "source": [
    "mean=IMDb_dataset['Adventure'].mean()\n",
    "var=IMDb_dataset['Adventure'].var()\n",
    "std=IMDb_dataset['Adventure'].std()\n",
    "print('mean: %f'%mean)\n",
    "print('var: %f'%var)\n",
    "print('std: %f'%std)"
   ]
  },
  {
   "cell_type": "markdown",
   "metadata": {},
   "source": [
    "Displaying statistics for feature 'Action'"
   ]
  },
  {
   "cell_type": "code",
   "execution_count": 42,
   "metadata": {
    "collapsed": false
   },
   "outputs": [
    {
     "name": "stdout",
     "output_type": "stream",
     "text": [
      "mean: 0.228714\n",
      "var: 0.176439\n",
      "std: 0.420046\n"
     ]
    }
   ],
   "source": [
    "mean=IMDb_dataset['Action'].mean()\n",
    "var=IMDb_dataset['Action'].var()\n",
    "std=IMDb_dataset['Action'].std()\n",
    "print('mean: %f'%mean)\n",
    "print('var: %f'%var)\n",
    "print('std: %f'%std)"
   ]
  },
  {
   "cell_type": "markdown",
   "metadata": {},
   "source": [
    "Displaying statistics for feature 'Drama'"
   ]
  },
  {
   "cell_type": "code",
   "execution_count": 43,
   "metadata": {
    "collapsed": false
   },
   "outputs": [
    {
     "name": "stdout",
     "output_type": "stream",
     "text": [
      "mean: 0.513260\n",
      "var: 0.249874\n",
      "std: 0.499874\n"
     ]
    }
   ],
   "source": [
    "mean=IMDb_dataset['Drama'].mean()\n",
    "var=IMDb_dataset['Drama'].var()\n",
    "std=IMDb_dataset['Drama'].std()\n",
    "print('mean: %f'%mean)\n",
    "print('var: %f'%var)\n",
    "print('std: %f'%std)"
   ]
  },
  {
   "cell_type": "markdown",
   "metadata": {},
   "source": [
    "Displaying statistics for feature 'Fantasy'"
   ]
  },
  {
   "cell_type": "code",
   "execution_count": 44,
   "metadata": {
    "collapsed": false
   },
   "outputs": [
    {
     "name": "stdout",
     "output_type": "stream",
     "text": [
      "mean: 0.121236\n",
      "var: 0.106559\n",
      "std: 0.326434\n"
     ]
    }
   ],
   "source": [
    "mean=IMDb_dataset['Fantasy'].mean()\n",
    "var=IMDb_dataset['Fantasy'].var()\n",
    "std=IMDb_dataset['Fantasy'].std()\n",
    "print('mean: %f'%mean)\n",
    "print('var: %f'%var)\n",
    "print('std: %f'%std)"
   ]
  },
  {
   "cell_type": "markdown",
   "metadata": {},
   "source": [
    "Displaying statistics for feature 'Romance'"
   ]
  },
  {
   "cell_type": "code",
   "execution_count": 45,
   "metadata": {
    "collapsed": false
   },
   "outputs": [
    {
     "name": "stdout",
     "output_type": "stream",
     "text": [
      "mean: 0.219741\n",
      "var: 0.171489\n",
      "std: 0.414112\n"
     ]
    }
   ],
   "source": [
    "mean=IMDb_dataset['Romance'].mean()\n",
    "var=IMDb_dataset['Romance'].var()\n",
    "std=IMDb_dataset['Romance'].std()\n",
    "print('mean: %f'%mean)\n",
    "print('var: %f'%var)\n",
    "print('std: %f'%std)"
   ]
  },
  {
   "cell_type": "markdown",
   "metadata": {},
   "source": [
    "Displaying statistics for feature 'Comedy' "
   ]
  },
  {
   "cell_type": "code",
   "execution_count": 46,
   "metadata": {
    "collapsed": false
   },
   "outputs": [
    {
     "name": "stdout",
     "output_type": "stream",
     "text": [
      "mean: 0.371884\n",
      "var: 0.233633\n",
      "std: 0.483356\n"
     ]
    }
   ],
   "source": [
    "mean=IMDb_dataset['Comedy'].mean()\n",
    "var=IMDb_dataset['Comedy'].var()\n",
    "std=IMDb_dataset['Comedy'].std()\n",
    "print('mean: %f'%mean)\n",
    "print('var: %f'%var)\n",
    "print('std: %f'%std)"
   ]
  },
  {
   "cell_type": "markdown",
   "metadata": {},
   "source": [
    "Displaying statistics for feature 'Family'"
   ]
  },
  {
   "cell_type": "code",
   "execution_count": 47,
   "metadata": {
    "collapsed": false
   },
   "outputs": [
    {
     "name": "stdout",
     "output_type": "stream",
     "text": [
      "mean: 0.108475\n",
      "var: 0.096727\n",
      "std: 0.311010\n"
     ]
    }
   ],
   "source": [
    "mean=IMDb_dataset['Family'].mean()\n",
    "var=IMDb_dataset['Family'].var()\n",
    "std=IMDb_dataset['Family'].std()\n",
    "print('mean: %f'%mean)\n",
    "print('var: %f'%var)\n",
    "print('std: %f'%std)"
   ]
  },
  {
   "cell_type": "markdown",
   "metadata": {},
   "source": [
    "Displaying statistics for feature 'Musical'"
   ]
  },
  {
   "cell_type": "code",
   "execution_count": 48,
   "metadata": {
    "collapsed": false
   },
   "outputs": [
    {
     "name": "stdout",
     "output_type": "stream",
     "text": [
      "mean: 0.026321\n",
      "var: 0.025633\n",
      "std: 0.160104\n"
     ]
    }
   ],
   "source": [
    "mean=IMDb_dataset['Musical'].mean()\n",
    "var=IMDb_dataset['Musical'].var()\n",
    "std=IMDb_dataset['Musical'].std()\n",
    "print('mean: %f'%mean)\n",
    "print('var: %f'%var)\n",
    "print('std: %f'%std)"
   ]
  },
  {
   "cell_type": "markdown",
   "metadata": {},
   "source": [
    "Displaying statistics for feature 'History'"
   ]
  },
  {
   "cell_type": "code",
   "execution_count": 49,
   "metadata": {
    "collapsed": false
   },
   "outputs": [
    {
     "name": "stdout",
     "output_type": "stream",
     "text": [
      "mean: 0.040678\n",
      "var: 0.039031\n",
      "std: 0.197563\n"
     ]
    }
   ],
   "source": [
    "mean=IMDb_dataset['History'].mean()\n",
    "var=IMDb_dataset['History'].var()\n",
    "std=IMDb_dataset['History'].std()\n",
    "print('mean: %f'%mean)\n",
    "print('var: %f'%var)\n",
    "print('std: %f'%std)"
   ]
  },
  {
   "cell_type": "markdown",
   "metadata": {},
   "source": [
    "Displaying statistics for feature 'War'"
   ]
  },
  {
   "cell_type": "code",
   "execution_count": 50,
   "metadata": {
    "collapsed": false
   },
   "outputs": [
    {
     "name": "stdout",
     "output_type": "stream",
     "text": [
      "mean: 0.041874\n",
      "var: 0.040129\n",
      "std: 0.200322\n"
     ]
    }
   ],
   "source": [
    "mean=IMDb_dataset['War'].mean()\n",
    "var=IMDb_dataset['War'].var()\n",
    "std=IMDb_dataset['War'].std()\n",
    "print('mean: %f'%mean)\n",
    "print('var: %f'%var)\n",
    "print('std: %f'%std)"
   ]
  },
  {
   "cell_type": "markdown",
   "metadata": {},
   "source": [
    "Displaying statistics for feature 'Documentary'"
   ]
  },
  {
   "cell_type": "code",
   "execution_count": 51,
   "metadata": {
    "collapsed": false
   },
   "outputs": [
    {
     "name": "stdout",
     "output_type": "stream",
     "text": [
      "mean: 0.023928\n",
      "var: 0.023360\n",
      "std: 0.152841\n"
     ]
    }
   ],
   "source": [
    "mean=IMDb_dataset['Documentary'].mean()\n",
    "var=IMDb_dataset['Documentary'].var()\n",
    "std=IMDb_dataset['Documentary'].std()\n",
    "print('mean: %f'%mean)\n",
    "print('var: %f'%var)\n",
    "print('std: %f'%std)"
   ]
  },
  {
   "cell_type": "markdown",
   "metadata": {},
   "source": [
    "Displaying statistics for feature 'Sport'"
   ]
  },
  {
   "cell_type": "code",
   "execution_count": 52,
   "metadata": {
    "collapsed": false
   },
   "outputs": [
    {
     "name": "stdout",
     "output_type": "stream",
     "text": [
      "mean: 0.036291\n",
      "var: 0.034981\n",
      "std: 0.187032\n"
     ]
    }
   ],
   "source": [
    "mean=IMDb_dataset['Sport'].mean()\n",
    "var=IMDb_dataset['Sport'].var()\n",
    "std=IMDb_dataset['Sport'].std()\n",
    "print('mean: %f'%mean)\n",
    "print('var: %f'%var)\n",
    "print('std: %f'%std)"
   ]
  },
  {
   "cell_type": "markdown",
   "metadata": {},
   "source": [
    "Displaying statistics for feature 'Crime'"
   ]
  },
  {
   "cell_type": "code",
   "execution_count": 53,
   "metadata": {
    "collapsed": false
   },
   "outputs": [
    {
     "name": "stdout",
     "output_type": "stream",
     "text": [
      "mean: 0.176072\n",
      "var: 0.145099\n",
      "std: 0.380919\n"
     ]
    }
   ],
   "source": [
    "mean=IMDb_dataset['Crime'].mean()\n",
    "var=IMDb_dataset['Crime'].var()\n",
    "std=IMDb_dataset['Crime'].std()\n",
    "print('mean: %f'%mean)\n",
    "print('var: %f'%var)\n",
    "print('std: %f'%std)"
   ]
  },
  {
   "cell_type": "markdown",
   "metadata": {},
   "source": [
    "Displaying statistics for feature 'Horror'"
   ]
  },
  {
   "cell_type": "code",
   "execution_count": 54,
   "metadata": {
    "collapsed": false
   },
   "outputs": [
    {
     "name": "stdout",
     "output_type": "stream",
     "text": [
      "mean: 0.111864\n",
      "var: 0.099371\n",
      "std: 0.315231\n"
     ]
    }
   ],
   "source": [
    "mean=IMDb_dataset['Horror'].mean()\n",
    "var=IMDb_dataset['Horror'].var()\n",
    "std=IMDb_dataset['Horror'].std()\n",
    "print('mean: %f'%mean)\n",
    "print('var: %f'%var)\n",
    "print('std: %f'%std)"
   ]
  },
  {
   "cell_type": "markdown",
   "metadata": {},
   "source": [
    "Displaying statistics for feature 'Mystery'"
   ]
  },
  {
   "cell_type": "code",
   "execution_count": 55,
   "metadata": {
    "collapsed": false
   },
   "outputs": [
    {
     "name": "stdout",
     "output_type": "stream",
     "text": [
      "mean: 0.099103\n",
      "var: 0.089299\n",
      "std: 0.298830\n"
     ]
    }
   ],
   "source": [
    "mean=IMDb_dataset['Mystery'].mean()\n",
    "var=IMDb_dataset['Mystery'].var()\n",
    "std=IMDb_dataset['Mystery'].std()\n",
    "print('mean: %f'%mean)\n",
    "print('var: %f'%var)\n",
    "print('std: %f'%std)"
   ]
  },
  {
   "cell_type": "markdown",
   "metadata": {},
   "source": [
    "Displaying statistics for feature 'Sci_Fi'"
   ]
  },
  {
   "cell_type": "code",
   "execution_count": 56,
   "metadata": {
    "collapsed": false
   },
   "outputs": [
    {
     "name": "stdout",
     "output_type": "stream",
     "text": [
      "mean: 0.122632\n",
      "var: 0.107615\n",
      "std: 0.328047\n"
     ]
    }
   ],
   "source": [
    "mean=IMDb_dataset['Sci_Fi'].mean()\n",
    "var=IMDb_dataset['Sci_Fi'].var()\n",
    "std=IMDb_dataset['Sci_Fi'].std()\n",
    "print('mean: %f'%mean)\n",
    "print('var: %f'%var)\n",
    "print('std: %f'%std)"
   ]
  },
  {
   "cell_type": "markdown",
   "metadata": {},
   "source": [
    "Displaying statistics for feature 'Thriller'\n"
   ]
  },
  {
   "cell_type": "code",
   "execution_count": 57,
   "metadata": {
    "collapsed": false
   },
   "outputs": [
    {
     "name": "stdout",
     "output_type": "stream",
     "text": [
      "mean: 0.279561\n",
      "var: 0.201447\n",
      "std: 0.448828\n"
     ]
    }
   ],
   "source": [
    "mean=IMDb_dataset['Thriller'].mean()\n",
    "var=IMDb_dataset['Thriller'].var()\n",
    "std=IMDb_dataset['Thriller'].std()\n",
    "print('mean: %f'%mean)\n",
    "print('var: %f'%var)\n",
    "print('std: %f'%std)"
   ]
  },
  {
   "cell_type": "markdown",
   "metadata": {},
   "source": [
    "Displaying statistics for feature 'Animation'"
   ]
  },
  {
   "cell_type": "code",
   "execution_count": 58,
   "metadata": {
    "collapsed": false
   },
   "outputs": [
    {
     "name": "stdout",
     "output_type": "stream",
     "text": [
      "mean: 0.048056\n",
      "var: 0.045756\n",
      "std: 0.213906\n"
     ]
    }
   ],
   "source": [
    "mean=IMDb_dataset['Animation'].mean()\n",
    "var=IMDb_dataset['Animation'].var()\n",
    "std=IMDb_dataset['Animation'].std()\n",
    "print('mean: %f'%mean)\n",
    "print('var: %f'%var)\n",
    "print('std: %f'%std)"
   ]
  },
  {
   "cell_type": "markdown",
   "metadata": {},
   "source": [
    "Displaying statistics for feature 'Biography'"
   ]
  },
  {
   "cell_type": "code",
   "execution_count": 59,
   "metadata": {
    "collapsed": false
   },
   "outputs": [
    {
     "name": "stdout",
     "output_type": "stream",
     "text": [
      "mean: 0.058425\n",
      "var: 0.055022\n",
      "std: 0.234568\n"
     ]
    }
   ],
   "source": [
    "mean=IMDb_dataset['Biography'].mean()\n",
    "var=IMDb_dataset['Biography'].var()\n",
    "std=IMDb_dataset['Biography'].std()\n",
    "print('mean: %f'%mean)\n",
    "print('var: %f'%var)\n",
    "print('std: %f'%std)"
   ]
  },
  {
   "cell_type": "code",
   "execution_count": 60,
   "metadata": {
    "collapsed": false
   },
   "outputs": [],
   "source": [
    "IMDb_dataset.to_csv(\"IMDB_dataset1.csv\",index=False)"
   ]
  }
 ],
 "metadata": {
  "anaconda-cloud": {},
  "kernelspec": {
   "display_name": "Python [Root]",
   "language": "python",
   "name": "Python [Root]"
  },
  "language_info": {
   "codemirror_mode": {
    "name": "ipython",
    "version": 3
   },
   "file_extension": ".py",
   "mimetype": "text/x-python",
   "name": "python",
   "nbconvert_exporter": "python",
   "pygments_lexer": "ipython3",
   "version": "3.5.2"
  }
 },
 "nbformat": 4,
 "nbformat_minor": 1
}
